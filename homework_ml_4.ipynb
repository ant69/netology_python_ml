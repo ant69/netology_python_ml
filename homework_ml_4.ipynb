{
 "cells": [
  {
   "cell_type": "markdown",
   "id": "61a94de6",
   "metadata": {},
   "source": [
    "# Домашняя работа \"Оценка точности модели, переобучение, регуляризация\" обновленное\n",
    "\n",
    "\n",
    "### Преподаватель: \n",
    "Даниил Корбут, Наталья Баданина\n",
    "\n",
    "## Задание\n",
    "\n",
    "### Цель: \n",
    "закрепить знания о математическом смысле метрик TPR, FPR. Изучить построение ROC-кривой, графика Precision-Recall.\n",
    "### Описание задания:\n",
    "Решить задачу классификации при помощи обучения модели логистической регрессии. Качество модели оценивается путем подсчета метрик TPR, FPR и построения графиков ROC-кривой, Precision-Recall. Данные для обучения модели хранятся в файле athletes.csv, который можно найти в материалах к занятию.\n",
    "### Этапы работы:\n",
    "#### Преобразуйте данные:\n",
    "- проверьте наличие пропущенных значений. Преобразуйте/удалите пропуски по необходимости;\n",
    "- закодируйте категориальные переменные числовыми значениями по необходимости.\n",
    "- Разделите выборку на обучающее (80% данных) и тестовое (20% данных) подмножества.\n",
    "- Постройте ROC-кривую с помощью функции sklearn.metrics. roc_curve.\n",
    "- Вычислите значение ROC-AUC метрики с помощью функции sklearn.metrics.roc_auc_score.\n",
    "- Реализуйте подсчет метрик TPR, FPR «вручную», без использования готовых функций из библиотеки sklearn.\n",
    "- Постройте ROC-кривую с помощью вычисленных в п. 5 метрик: объедините графики из п. 3 и п. 6 в один. Сравните, сделайте вывод.\n",
    "- Постройте график Precision-Recall, используя метрики, посчитанные в п. 5.\n",
    "- *Вычислите значение ROC-AUC метрики, используя метрики, посчитанные в п. 5.\n",
    "\n",
    "#### Сформулируйте выводы по проделанной работе:\n",
    "- Как по полученным графикам сделать вывод о качестве модели? \n",
    "- Как вы оцениваете обученную модель исходя из подсчитанных метрик?\n",
    "- *может ли ROC-кривая проходить ниже диагонали?\n",
    "\n",
    "#### Результат:\n",
    "- проведена оценка качества модели классификации;\n",
    "- реализован подсчет «вручную» основных метрик, проведено сравнение полученных результатов с готовыми функциями из библиотеки sklearn.\n",
    "\n",
    "### Форма выполнения:\n",
    "- ссылка на Jupyter Notebook, загруженный на GitHub;\n",
    "- ссылка на Google Colab;\n",
    "- файл с расширением .ipynb.\n",
    "\n",
    "### Инструменты:\n",
    "Jupyter Notebook/Google Colab\n",
    "GitHub\n",
    "файл athletes.csv\n",
    "Срок выполнения: дедлайн приема решений на проверку\n",
    "\n",
    "*Рекомендации к выполнению:\n",
    "Убедитесь, что на графике ROC-кривой присутствует диагональная линия, начинающаяся в точке (0;0) и заканчивающаяся в точке (1;1).\n",
    "\n",
    "Текст оформляйте в отдельной ячейке Jupyter Notebook/Google Colab в формате markdown.\n",
    "\n",
    "У графиков должен быть заголовок, подписи осей, легенда (опционально). Делайте графики бОльшего размера, чем стандартный вывод, чтобы увеличить читаемость.\n",
    "\n",
    "Убедитесь, что по ссылкам есть доступ на чтение/просмотр.\n",
    "\n",
    "Убедитесь, что все ячейки в работе выполнены и можно увидеть их вывод без повторного запуска."
   ]
  },
  {
   "cell_type": "code",
   "execution_count": 1,
   "id": "7c84059e",
   "metadata": {},
   "outputs": [],
   "source": [
    "import pandas as pd\n",
    "import numpy as np"
   ]
  },
  {
   "cell_type": "code",
   "execution_count": 23,
   "id": "dc9cae2c",
   "metadata": {},
   "outputs": [
    {
     "data": {
      "text/html": [
       "<div>\n",
       "<style scoped>\n",
       "    .dataframe tbody tr th:only-of-type {\n",
       "        vertical-align: middle;\n",
       "    }\n",
       "\n",
       "    .dataframe tbody tr th {\n",
       "        vertical-align: top;\n",
       "    }\n",
       "\n",
       "    .dataframe thead th {\n",
       "        text-align: right;\n",
       "    }\n",
       "</style>\n",
       "<table border=\"1\" class=\"dataframe\">\n",
       "  <thead>\n",
       "    <tr style=\"text-align: right;\">\n",
       "      <th></th>\n",
       "      <th>id</th>\n",
       "      <th>name</th>\n",
       "      <th>nationality</th>\n",
       "      <th>sex</th>\n",
       "      <th>dob</th>\n",
       "      <th>height</th>\n",
       "      <th>weight</th>\n",
       "      <th>sport</th>\n",
       "      <th>gold</th>\n",
       "      <th>silver</th>\n",
       "      <th>bronze</th>\n",
       "    </tr>\n",
       "  </thead>\n",
       "  <tbody>\n",
       "    <tr>\n",
       "      <th>0</th>\n",
       "      <td>736041664</td>\n",
       "      <td>A Jesus Garcia</td>\n",
       "      <td>ESP</td>\n",
       "      <td>male</td>\n",
       "      <td>10/17/69</td>\n",
       "      <td>1.72</td>\n",
       "      <td>64.0</td>\n",
       "      <td>athletics</td>\n",
       "      <td>0</td>\n",
       "      <td>0</td>\n",
       "      <td>0</td>\n",
       "    </tr>\n",
       "    <tr>\n",
       "      <th>1</th>\n",
       "      <td>532037425</td>\n",
       "      <td>A Lam Shin</td>\n",
       "      <td>KOR</td>\n",
       "      <td>female</td>\n",
       "      <td>9/23/86</td>\n",
       "      <td>1.68</td>\n",
       "      <td>56.0</td>\n",
       "      <td>fencing</td>\n",
       "      <td>0</td>\n",
       "      <td>0</td>\n",
       "      <td>0</td>\n",
       "    </tr>\n",
       "    <tr>\n",
       "      <th>2</th>\n",
       "      <td>435962603</td>\n",
       "      <td>Aaron Brown</td>\n",
       "      <td>CAN</td>\n",
       "      <td>male</td>\n",
       "      <td>5/27/92</td>\n",
       "      <td>1.98</td>\n",
       "      <td>79.0</td>\n",
       "      <td>athletics</td>\n",
       "      <td>0</td>\n",
       "      <td>0</td>\n",
       "      <td>1</td>\n",
       "    </tr>\n",
       "    <tr>\n",
       "      <th>3</th>\n",
       "      <td>521041435</td>\n",
       "      <td>Aaron Cook</td>\n",
       "      <td>MDA</td>\n",
       "      <td>male</td>\n",
       "      <td>1/2/91</td>\n",
       "      <td>1.83</td>\n",
       "      <td>80.0</td>\n",
       "      <td>taekwondo</td>\n",
       "      <td>0</td>\n",
       "      <td>0</td>\n",
       "      <td>0</td>\n",
       "    </tr>\n",
       "    <tr>\n",
       "      <th>4</th>\n",
       "      <td>33922579</td>\n",
       "      <td>Aaron Gate</td>\n",
       "      <td>NZL</td>\n",
       "      <td>male</td>\n",
       "      <td>11/26/90</td>\n",
       "      <td>1.81</td>\n",
       "      <td>71.0</td>\n",
       "      <td>cycling</td>\n",
       "      <td>0</td>\n",
       "      <td>0</td>\n",
       "      <td>0</td>\n",
       "    </tr>\n",
       "  </tbody>\n",
       "</table>\n",
       "</div>"
      ],
      "text/plain": [
       "          id            name nationality     sex       dob  height  weight  \\\n",
       "0  736041664  A Jesus Garcia         ESP    male  10/17/69    1.72    64.0   \n",
       "1  532037425      A Lam Shin         KOR  female   9/23/86    1.68    56.0   \n",
       "2  435962603     Aaron Brown         CAN    male   5/27/92    1.98    79.0   \n",
       "3  521041435      Aaron Cook         MDA    male    1/2/91    1.83    80.0   \n",
       "4   33922579      Aaron Gate         NZL    male  11/26/90    1.81    71.0   \n",
       "\n",
       "       sport  gold  silver  bronze  \n",
       "0  athletics     0       0       0  \n",
       "1    fencing     0       0       0  \n",
       "2  athletics     0       0       1  \n",
       "3  taekwondo     0       0       0  \n",
       "4    cycling     0       0       0  "
      ]
     },
     "execution_count": 23,
     "metadata": {},
     "output_type": "execute_result"
    }
   ],
   "source": [
    "# Решить задачу классификации при помощи обучения модели логистической регрессии. \n",
    "# Качество модели оценивается путем подсчета метрик TPR, FPR и построения графиков ROC-кривой, Precision-Recall. \n",
    "# Данные для обучения модели хранятся в файле athletes.csv, который можно найти в материалах к занятию.\n",
    "# \n",
    "# В УСЛОВИИ ЗАДАЧИ НЕ УКАЗАНО, КАКАЯ ИМЕННО ИЗ КОЛОНОК ДАТАСЕТА ЯВЛЯЕТСЯ ЦЕЛЕВОЙ.\n",
    "# Поскольку единственная колонка в датасете, являющаяся по сути бинарной - это колонка sex, будем считать, \n",
    "# предсказывать надо будет именно пол спортсмена\n",
    "# При этом более логичным кажется предсказание количества медалей...\n",
    "data = pd.read_csv('athletes.csv')\n",
    "data.head()"
   ]
  },
  {
   "cell_type": "code",
   "execution_count": 13,
   "id": "b2328c7d",
   "metadata": {},
   "outputs": [
    {
     "name": "stdout",
     "output_type": "stream",
     "text": [
      "<class 'pandas.core.frame.DataFrame'>\n",
      "RangeIndex: 11538 entries, 0 to 11537\n",
      "Data columns (total 11 columns):\n",
      " #   Column       Non-Null Count  Dtype  \n",
      "---  ------       --------------  -----  \n",
      " 0   id           11538 non-null  int64  \n",
      " 1   name         11538 non-null  object \n",
      " 2   nationality  11538 non-null  object \n",
      " 3   sex          11538 non-null  object \n",
      " 4   dob          11537 non-null  object \n",
      " 5   height       11208 non-null  float64\n",
      " 6   weight       10879 non-null  float64\n",
      " 7   sport        11538 non-null  object \n",
      " 8   gold         11538 non-null  int64  \n",
      " 9   silver       11538 non-null  int64  \n",
      " 10  bronze       11538 non-null  int64  \n",
      "dtypes: float64(2), int64(4), object(5)\n",
      "memory usage: 991.7+ KB\n",
      "None\n",
      "Колонка dob содержит 1 пустых строк\n",
      "Колонка height содержит 330 пустых строк\n",
      "Колонка weight содержит 659 пустых строк\n"
     ]
    }
   ],
   "source": [
    "##########################\n",
    "# проверьте наличие пропущенных значений. Преобразуйте/удалите пропуски по необходимости\n",
    "##########################\n",
    "print(data.info())\n",
    "def count_nans(df, col_name):\n",
    "    return len(df[pd.isnull(df[col_name])])\n",
    "\n",
    "for col in data.columns:\n",
    "    empty_vals = count_nans(data, col)\n",
    "    if empty_vals > 0:\n",
    "        print(f'Колонка {col} содержит {empty_vals} пустых строк')"
   ]
  },
  {
   "cell_type": "code",
   "execution_count": 21,
   "id": "eee3d298",
   "metadata": {},
   "outputs": [
    {
     "name": "stdout",
     "output_type": "stream",
     "text": [
      "<class 'pandas.core.frame.DataFrame'>\n",
      "Int64Index: 10858 entries, 0 to 11537\n",
      "Data columns (total 11 columns):\n",
      " #   Column       Non-Null Count  Dtype  \n",
      "---  ------       --------------  -----  \n",
      " 0   id           10858 non-null  int64  \n",
      " 1   name         10858 non-null  object \n",
      " 2   nationality  10858 non-null  object \n",
      " 3   sex          10858 non-null  object \n",
      " 4   dob          10858 non-null  object \n",
      " 5   height       10858 non-null  float64\n",
      " 6   weight       10858 non-null  float64\n",
      " 7   sport        10858 non-null  object \n",
      " 8   gold         10858 non-null  int64  \n",
      " 9   silver       10858 non-null  int64  \n",
      " 10  bronze       10858 non-null  int64  \n",
      "dtypes: float64(2), int64(4), object(5)\n",
      "memory usage: 1017.9+ KB\n",
      "\n",
      "Из 11538 осталось 10858\n",
      "Это составляет 94.11 процентов\n"
     ]
    }
   ],
   "source": [
    "# Видим, что у нас совокупное количество пропусков явно меньше 10 процентов от общего количества записей.\n",
    "# Можно было бы заняться умной заменой значений, но на текущем шаге попробую удалить все записи с пустыми значениями.\n",
    "# Потом можно будет проверить и сценарий с заменой.\n",
    "data_f = data.dropna(axis='rows')\n",
    "data_f.info()\n",
    "\n",
    "print(f'\\nИз {data.id.count()} осталось {data_f.id.count()}\\nЭто составляет {round(data_f.id.count()*100/data.id.count(), 2)} процентов')"
   ]
  },
  {
   "cell_type": "code",
   "execution_count": 36,
   "id": "6682902e",
   "metadata": {},
   "outputs": [],
   "source": [
    "# Изучим столбцы датасета, содержащие категориальные данные.\n",
    "# Поле name потенциально одно из самых однозначных полей в этом датасете, поскольку очевидно, что есть мужские и женские имена.\n",
    "# Но поскольку в нашей текущей задаче главное - не угадать, а научиться строить кривые ROC-AUC, это поле мы просто отбросим.\n"
   ]
  },
  {
   "cell_type": "code",
   "execution_count": 48,
   "id": "e0c2dac9",
   "metadata": {},
   "outputs": [
    {
     "name": "stdout",
     "output_type": "stream",
     "text": [
      "Статистический анализ роста по всем спортсменам:\n",
      " count    10858.000000\n",
      "mean         1.766942\n",
      "std          0.113111\n",
      "min          1.210000\n",
      "25%          1.690000\n",
      "50%          1.760000\n",
      "75%          1.840000\n",
      "max          2.210000\n",
      "Name: height, dtype: float64\n",
      "\n",
      "Статистический анализ среднего роста по странам:\n",
      "            height\n",
      "count  200.000000\n",
      "mean     1.740211\n",
      "std      0.058424\n",
      "min      1.530000\n",
      "25%      1.705000\n",
      "50%      1.748000\n",
      "75%      1.776114\n",
      "max      1.900000\n"
     ]
    }
   ],
   "source": [
    "# поле nationality интуитивно хочется отбросить, но есть при этом ощущение, что представители некоторых наций в среднем \n",
    "# могут быть меньше, чем представители других наций. Тем не менее понятно. что тут может быть много выбросов, \n",
    "# связанных и со смешанными браками, и со сменой гражданства, и просто с физиологическими особенностями каждого спортсмена.\n",
    "# Интереса ради посмотрим тем не менее, как отличается средний рост спортсменов по странам\n",
    "mean_heights_by_nationality = data_f[['height', 'nationality']].groupby(data_f.nationality  ).mean()\n",
    "\n",
    "print('Статистический анализ роста по всем спортсменам:\\n', data_f.height.describe())\n",
    "print('\\nСтатистический анализ среднего роста по странам:\\n', mean_heights_by_nationality.describe())\n",
    "\n",
    "# Видно, что действительно принадлежность к определенной нации сильно влияет на значение среднего роста."
   ]
  },
  {
   "cell_type": "code",
   "execution_count": 49,
   "id": "24cdd35b",
   "metadata": {},
   "outputs": [],
   "source": [
    "# Поде dob (видимо - date of birthday) можно отлично преобразовать в число. \n",
    "# К примеру, возраст спортсмена в годах, в месяцах, в днях или даже в формате unix time stamp :) \n",
    "# Но при этом интуитивно кажется, что возраст спортсмена не может давать никаких намеков на его пол.\n",
    "# Для данной задачи я бы от этого поля избавился."
   ]
  },
  {
   "cell_type": "code",
   "execution_count": 50,
   "id": "fd28dd49",
   "metadata": {},
   "outputs": [
    {
     "name": "stdout",
     "output_type": "stream",
     "text": [
      "Количество видов спорта: 27\n"
     ]
    },
    {
     "data": {
      "text/html": [
       "<div>\n",
       "<style scoped>\n",
       "    .dataframe tbody tr th:only-of-type {\n",
       "        vertical-align: middle;\n",
       "    }\n",
       "\n",
       "    .dataframe tbody tr th {\n",
       "        vertical-align: top;\n",
       "    }\n",
       "\n",
       "    .dataframe thead th {\n",
       "        text-align: right;\n",
       "    }\n",
       "</style>\n",
       "<table border=\"1\" class=\"dataframe\">\n",
       "  <thead>\n",
       "    <tr style=\"text-align: right;\">\n",
       "      <th></th>\n",
       "      <th>height</th>\n",
       "    </tr>\n",
       "    <tr>\n",
       "      <th>sport</th>\n",
       "      <th></th>\n",
       "    </tr>\n",
       "  </thead>\n",
       "  <tbody>\n",
       "    <tr>\n",
       "      <th>aquatics</th>\n",
       "      <td>1.788338</td>\n",
       "    </tr>\n",
       "    <tr>\n",
       "      <th>archery</th>\n",
       "      <td>1.735952</td>\n",
       "    </tr>\n",
       "    <tr>\n",
       "      <th>athletics</th>\n",
       "      <td>1.752039</td>\n",
       "    </tr>\n",
       "    <tr>\n",
       "      <th>badminton</th>\n",
       "      <td>1.745610</td>\n",
       "    </tr>\n",
       "    <tr>\n",
       "      <th>basketball</th>\n",
       "      <td>1.919120</td>\n",
       "    </tr>\n",
       "    <tr>\n",
       "      <th>canoe</th>\n",
       "      <td>1.781101</td>\n",
       "    </tr>\n",
       "    <tr>\n",
       "      <th>cycling</th>\n",
       "      <td>1.747151</td>\n",
       "    </tr>\n",
       "    <tr>\n",
       "      <th>equestrian</th>\n",
       "      <td>1.749349</td>\n",
       "    </tr>\n",
       "    <tr>\n",
       "      <th>fencing</th>\n",
       "      <td>1.772449</td>\n",
       "    </tr>\n",
       "    <tr>\n",
       "      <th>football</th>\n",
       "      <td>1.746003</td>\n",
       "    </tr>\n",
       "    <tr>\n",
       "      <th>golf</th>\n",
       "      <td>1.745739</td>\n",
       "    </tr>\n",
       "    <tr>\n",
       "      <th>gymnastics</th>\n",
       "      <td>1.638119</td>\n",
       "    </tr>\n",
       "    <tr>\n",
       "      <th>handball</th>\n",
       "      <td>1.840401</td>\n",
       "    </tr>\n",
       "    <tr>\n",
       "      <th>hockey</th>\n",
       "      <td>1.733981</td>\n",
       "    </tr>\n",
       "    <tr>\n",
       "      <th>judo</th>\n",
       "      <td>1.734085</td>\n",
       "    </tr>\n",
       "    <tr>\n",
       "      <th>modern pentathlon</th>\n",
       "      <td>1.762361</td>\n",
       "    </tr>\n",
       "    <tr>\n",
       "      <th>rowing</th>\n",
       "      <td>1.849477</td>\n",
       "    </tr>\n",
       "    <tr>\n",
       "      <th>rugby sevens</th>\n",
       "      <td>1.755270</td>\n",
       "    </tr>\n",
       "    <tr>\n",
       "      <th>sailing</th>\n",
       "      <td>1.761478</td>\n",
       "    </tr>\n",
       "    <tr>\n",
       "      <th>shooting</th>\n",
       "      <td>1.728921</td>\n",
       "    </tr>\n",
       "    <tr>\n",
       "      <th>table tennis</th>\n",
       "      <td>1.721845</td>\n",
       "    </tr>\n",
       "    <tr>\n",
       "      <th>taekwondo</th>\n",
       "      <td>1.797200</td>\n",
       "    </tr>\n",
       "    <tr>\n",
       "      <th>tennis</th>\n",
       "      <td>1.802251</td>\n",
       "    </tr>\n",
       "    <tr>\n",
       "      <th>triathlon</th>\n",
       "      <td>1.732110</td>\n",
       "    </tr>\n",
       "    <tr>\n",
       "      <th>volleyball</th>\n",
       "      <td>1.896702</td>\n",
       "    </tr>\n",
       "    <tr>\n",
       "      <th>weightlifting</th>\n",
       "      <td>1.666628</td>\n",
       "    </tr>\n",
       "    <tr>\n",
       "      <th>wrestling</th>\n",
       "      <td>1.722951</td>\n",
       "    </tr>\n",
       "  </tbody>\n",
       "</table>\n",
       "</div>"
      ],
      "text/plain": [
       "                     height\n",
       "sport                      \n",
       "aquatics           1.788338\n",
       "archery            1.735952\n",
       "athletics          1.752039\n",
       "badminton          1.745610\n",
       "basketball         1.919120\n",
       "canoe              1.781101\n",
       "cycling            1.747151\n",
       "equestrian         1.749349\n",
       "fencing            1.772449\n",
       "football           1.746003\n",
       "golf               1.745739\n",
       "gymnastics         1.638119\n",
       "handball           1.840401\n",
       "hockey             1.733981\n",
       "judo               1.734085\n",
       "modern pentathlon  1.762361\n",
       "rowing             1.849477\n",
       "rugby sevens       1.755270\n",
       "sailing            1.761478\n",
       "shooting           1.728921\n",
       "table tennis       1.721845\n",
       "taekwondo          1.797200\n",
       "tennis             1.802251\n",
       "triathlon          1.732110\n",
       "volleyball         1.896702\n",
       "weightlifting      1.666628\n",
       "wrestling          1.722951"
      ]
     },
     "execution_count": 50,
     "metadata": {},
     "output_type": "execute_result"
    }
   ],
   "source": [
    "# С видами спорта ситуация следующая. Видно, что почти для каждого вида спорта количество спортсменов в выборке неплохое.\n",
    "# Для задачи предсказания пола спортсмена это поле кажется неплохим. Кажется очевидным, что для многих видов спорта\n",
    "# рост и вес спортсменов являются специфическими. В этой связи это поле кажется полезным.\n",
    "# К примеру, вот что получается со средним ростом спортсменов по каждому из видов спорта: \n",
    "print('Количество видов спорта:', len(data_f.sport.unique()))\n",
    "# data_f.sport.groupby(data_f.sport).count()\n",
    "mean_heights_by_sport = data_f[['height', 'sport']].groupby(data_f.sport).mean()\n",
    "mean_heights_by_sport"
   ]
  },
  {
   "cell_type": "code",
   "execution_count": null,
   "id": "40d473d3",
   "metadata": {},
   "outputs": [],
   "source": [
    "# Поля Gold, Silver и Bronze я отброшу. Казалось бы, при чем тут пол? "
   ]
  },
  {
   "cell_type": "code",
   "execution_count": 66,
   "id": "73183e67",
   "metadata": {},
   "outputs": [
    {
     "name": "stdout",
     "output_type": "stream",
     "text": [
      "{'index': {'gymnastics': 0, 'weightlifting': 1, 'table tennis': 2, 'wrestling': 3, 'shooting': 4, 'triathlon': 5, 'hockey': 6, 'judo': 7, 'archery': 8, 'badminton': 9, 'golf': 10, 'football': 11, 'cycling': 12, 'equestrian': 13, 'athletics': 14, 'rugby sevens': 15, 'sailing': 16, 'modern pentathlon': 17, 'fencing': 18, 'canoe': 19, 'aquatics': 20, 'taekwondo': 21, 'tennis': 22, 'handball': 23, 'rowing': 24, 'volleyball': 25, 'basketball': 26}}\n",
      "{'index': {'FSM': 0, 'BRU': 1, 'TOG': 2, 'PRK': 3, 'PLW': 4, 'RWA': 5, 'NRU': 6, 'NEP': 7, 'COD': 8, 'KIR': 9, 'SAM': 10, 'CAM': 11, 'GUY': 12, 'BHU': 13, 'MAW': 14, 'PHI': 15, 'BAN': 16, 'SOL': 17, 'IVB': 18, 'VIE': 19, 'MHL': 20, 'GEQ': 21, 'CAF': 22, 'LIB': 23, 'OMA': 24, 'ZIM': 25, 'TAN': 26, 'PAN': 27, 'PLE': 28, 'MAD': 29, 'STP': 30, 'INA': 31, 'ECU': 32, 'COM': 33, 'SIN': 34, 'SRI': 35, 'PER': 36, 'GUA': 37, 'MAS': 38, 'MGL': 39, 'YEM': 40, 'KSA': 41, 'THA': 42, 'MKD': 43, 'MYA': 44, 'IND': 45, 'JPN': 46, 'TPE': 47, 'NAM': 48, 'ESA': 49, 'MTN': 50, 'UAE': 51, 'ETH': 52, 'KGZ': 53, 'NCA': 54, 'KEN': 55, 'BRN': 56, 'HKG': 57, 'COL': 58, 'AND': 59, 'ERI': 60, 'BOL': 61, 'ROT': 62, 'PNG': 63, 'DOM': 64, 'BDI': 65, 'GUI': 66, 'GBS': 67, 'LCA': 68, 'PAK': 69, 'ARM': 70, 'MRI': 71, 'COK': 72, 'CRC': 73, 'CHA': 74, 'ISR': 75, 'MAR': 76, 'SSD': 77, 'KOR': 78, 'TTO': 79, 'LAO': 80, 'GHA': 81, 'KOS': 82, 'DJI': 83, 'AFG': 84, 'SUD': 85, 'CHI': 86, 'PAR': 87, 'KAZ': 88, 'GAB': 89, 'HAI': 90, 'ARU': 91, 'MOZ': 92, 'MEX': 93, 'BER': 94, 'TKM': 95, 'IOA': 96, 'CPV': 97, 'MLI': 98, 'SMR': 99, 'GUM': 100, 'ALG': 101, 'SWZ': 102, 'CMR': 103, 'JOR': 104, 'IRL': 105, 'VIN': 106, 'CGO': 107, 'RSA': 108, 'JAM': 109, 'TUR': 110, 'UZB': 111, 'POR': 112, 'BUL': 113, 'SEY': 114, 'CAN': 115, 'FIN': 116, 'LBA': 117, 'MLT': 118, 'SUI': 119, 'CHN': 120, 'UKR': 121, 'ALB': 122, 'BAH': 123, 'ANG': 124, 'CAY': 125, 'BRA': 126, 'NGR': 127, 'CIV': 128, 'VAN': 129, 'ZAM': 130, 'ASA': 131, 'URU': 132, 'ROU': 133, 'LUX': 134, 'ESP': 135, 'LES': 136, 'BLR': 137, 'FIJ': 138, 'EGY': 139, 'VEN': 140, 'MON': 141, 'AZE': 142, 'GEO': 143, 'AUT': 144, 'CUB': 145, 'GBR': 146, 'SKN': 147, 'BEL': 148, 'PUR': 149, 'NZL': 150, 'MDA': 151, 'TGA': 152, 'ITA': 153, 'SEN': 154, 'RUS': 155, 'ARG': 156, 'HON': 157, 'AUS': 158, 'SWE': 159, 'FRA': 160, 'CYP': 161, 'USA': 162, 'GER': 163, 'DMA': 164, 'GRE': 165, 'NIG': 166, 'SLO': 167, 'NED': 168, 'BEN': 169, 'HUN': 170, 'IRQ': 171, 'ANT': 172, 'TUN': 173, 'BIH': 174, 'BAR': 175, 'LIE': 176, 'SVK': 177, 'EST': 178, 'TJK': 179, 'CZE': 180, 'LAT': 181, 'BOT': 182, 'BUR': 183, 'POL': 184, 'ISV': 185, 'ISL': 186, 'NOR': 187, 'GRN': 188, 'IRI': 189, 'DEN': 190, 'MNE': 191, 'BIZ': 192, 'TUV': 193, 'QAT': 194, 'SRB': 195, 'SYR': 196, 'LTU': 197, 'CRO': 198, 'SUR': 199}}\n"
     ]
    }
   ],
   "source": [
    "##########################\n",
    "# закодируйте категориальные переменные числовыми значениями по необходимости.\n",
    "##########################\n",
    "# В итоговой выборке я хочу оставить поля nationality, height, weight, sport, предварительно преобразовав\n",
    "# категориальные поля nationality и sport\n",
    "# Может быть, это - ошибочное решение, но я попытаюсь отранжировать справочники для nationality и sport по среднему росту\n",
    "# Есть еще один путь - использовать OneHotEncoder для этих полей, расширив размерность пространства признаков.\n",
    "# Но, опять-таки, для текущего задания главная задача - не столько точность предсказания, сколько анализ оценки точности модели\n",
    "\n",
    "# Создаем справочники категорий для видов спорта и для наций\n",
    "# (получившиеся ниже цепочки преобразований проверял последовательно. В каждой из них вначале иде сортировка\n",
    "# по возрастанию по среднему значению роста для вида спорта или нации соответственно. А далее все это преобразуется в словари)\n",
    "sports_cat = mean_heights_by_sport.sort_values(by='height').reset_index()['sport'].reset_index().set_index('sport').to_dict()\n",
    "print(sports_cat)\n",
    "#sports_cat['index']['hockey']\n",
    "\n",
    "nationality_cat = mean_heights_by_nationality.sort_values(by='height').reset_index()['nationality'].reset_index().set_index('nationality').to_dict()\n",
    "print(nationality_cat)"
   ]
  },
  {
   "cell_type": "code",
   "execution_count": 73,
   "id": "af679bab",
   "metadata": {},
   "outputs": [
    {
     "name": "stdout",
     "output_type": "stream",
     "text": [
      "   nationality_id  sport_id  weight  height\n",
      "0             135        14    64.0    1.72\n",
      "1              78        18    56.0    1.68\n",
      "2             115        14    79.0    1.98\n",
      "3             151        21    80.0    1.83\n",
      "4             150        12    71.0    1.81\n"
     ]
    }
   ],
   "source": [
    "# Соберем датасет.\n",
    "# Вначале добавляем колонки со значениями из справочников видов спорта и наций:\n",
    "data_f['sport_id'] = [sports_cat['index'][x] for x in data_f['sport']]\n",
    "data_f['nationality_id'] = [nationality_cat['index'][x] for x in data_f['nationality']]\n",
    "# data_f.head()\n",
    "\n",
    "# А теперь формируем X и y для нашего датасета, оставляя только нужные столбцы\n",
    "X = data_f[['nationality_id', 'sport_id', 'weight', 'height']]\n",
    "print(X.head())"
   ]
  },
  {
   "cell_type": "code",
   "execution_count": 74,
   "id": "560715af",
   "metadata": {},
   "outputs": [
    {
     "name": "stdout",
     "output_type": "stream",
     "text": [
      "0    1\n",
      "1    0\n",
      "2    1\n",
      "3    1\n",
      "4    1\n",
      "dtype: int32\n"
     ]
    }
   ],
   "source": [
    "# Для целевой колонки воспользуемся мощью библиотеки sklearn\n",
    "from sklearn.preprocessing import LabelEncoder\n",
    "le = LabelEncoder()\n",
    "le.fit( data['sex'] )\n",
    "y = pd.Series( data = le.transform( data_f['sex'] ) )\n",
    "print(y.head())\n",
    "#y = data_f[]"
   ]
  },
  {
   "cell_type": "code",
   "execution_count": 96,
   "id": "902b586e",
   "metadata": {},
   "outputs": [
    {
     "name": "stdout",
     "output_type": "stream",
     "text": [
      "[1 1 0 1 1 0 1 0 1 1 0 1 1 1 1 1 0 0 1 0 0 0 0 0 1]\n",
      "[1, 1, 1, 1, 1, 0, 1, 0, 1, 1, 0, 1, 1, 1, 0, 1, 0, 0, 1, 0, 0, 0, 0, 0, 0]\n"
     ]
    }
   ],
   "source": [
    "##########################\n",
    "# Разделите выборку на обучающее (80% данных) и тестовое (20% данных) подмножества.\n",
    "##########################\n",
    "from sklearn.linear_model import LogisticRegression\n",
    "from sklearn.model_selection import train_test_split\n",
    "\n",
    "X_train, X_test, y_train, y_test = train_test_split(X, y, test_size=0.2, random_state=42)\n",
    "\n",
    "# Сразу же создадим модель и обучим ее на тренировочной выборке\n",
    "model = LogisticRegression()\n",
    "model.fit(X_train, y_train)\n",
    "\n",
    "# Предскажем и целевое значение, и вероятности \n",
    "predictions = model.predict(X_test)\n",
    "predictions_probabilities = model.predict_proba(X_test)\n",
    "\n",
    "# Из спортивного интереса сравним первые 25 значений\n",
    "print(predictions[0:25])\n",
    "print(y_test[0:25].to_list())"
   ]
  },
  {
   "cell_type": "code",
   "execution_count": 109,
   "id": "c71851dd",
   "metadata": {},
   "outputs": [
    {
     "name": "stdout",
     "output_type": "stream",
     "text": [
      "591\n"
     ]
    }
   ],
   "source": [
    "##########################\n",
    "# Постройте ROC-кривую с помощью функции sklearn.metrics. roc_curve.\n",
    "##########################\n",
    "from sklearn.metrics import roc_curve\n",
    "\n",
    "fpr, tpr, thres = roc_curve( y_test, predictions_probabilities[:, 1])\n",
    "print(len(fpr))\n",
    "# Вычислена 591 точка"
   ]
  },
  {
   "cell_type": "code",
   "execution_count": 126,
   "id": "fc29de8e",
   "metadata": {},
   "outputs": [
    {
     "data": {
      "text/plain": [
       "Text(0.5, 1.0, 'ROC-кривая')"
      ]
     },
     "execution_count": 126,
     "metadata": {},
     "output_type": "execute_result"
    },
    {
     "data": {
      "image/png": "[encoded data removed]",
      "text/plain": [
       "<Figure size 432x288 with 1 Axes>"
      ]
     },
     "metadata": {
      "needs_background": "light"
     },
     "output_type": "display_data"
    }
   ],
   "source": [
    "from matplotlib import pyplot as plt\n",
    "\n",
    "plt.plot( fpr, tpr )\n",
    "plt.title('ROC-кривая')"
   ]
  },
  {
   "cell_type": "code",
   "execution_count": 101,
   "id": "8baeeb5d",
   "metadata": {},
   "outputs": [
    {
     "data": {
      "text/plain": [
       "0.8840757678410118"
      ]
     },
     "execution_count": 101,
     "metadata": {},
     "output_type": "execute_result"
    }
   ],
   "source": [
    "##########################\n",
    "# Вычислите значение ROC-AUC метрики с помощью функции sklearn.metrics.roc_auc_score.\n",
    "##########################\n",
    "from sklearn.metrics import roc_auc_score\n",
    "roc_auc_score(y_test, predictions_probabilities[:, 1])"
   ]
  },
  {
   "cell_type": "code",
   "execution_count": 121,
   "id": "197a1334",
   "metadata": {},
   "outputs": [
    {
     "name": "stdout",
     "output_type": "stream",
     "text": [
      "[1.0, 1.0, 1.0, 1.0, 1.0, 0.9991582491582491, 0.9983164983164983, 0.9983164983164983, 0.9974747474747475, 0.9957912457912458, 0.9924242424242424, 0.9907407407407407, 0.9882154882154882, 0.9873737373737373, 0.9865319865319865, 0.9856902356902357, 0.9856902356902357, 0.984006734006734, 0.9823232323232324, 0.9806397306397306, 0.9797979797979798, 0.9789562289562289, 0.9781144781144782, 0.9781144781144782, 0.9781144781144782, 0.9764309764309764, 0.9755892255892256, 0.9739057239057239, 0.9739057239057239, 0.9730639730639731, 0.9705387205387206, 0.968013468013468, 0.9663299663299664, 0.9638047138047138, 0.9612794612794613, 0.9612794612794613, 0.9570707070707071, 0.9545454545454546, 0.9511784511784511, 0.9494949494949495, 0.9478114478114478, 0.9461279461279462, 0.9427609427609428, 0.9393939393939394, 0.9385521885521886, 0.936026936026936, 0.9343434343434344, 0.9276094276094277, 0.9242424242424242, 0.92003367003367, 0.9175084175084175, 0.9158249158249159, 0.9132996632996633, 0.9107744107744108, 0.9065656565656566, 0.9057239057239057, 0.9006734006734006, 0.898989898989899, 0.8956228956228957, 0.8914141414141414, 0.8888888888888888, 0.8846801346801347, 0.8804713804713805, 0.8745791245791246, 0.8703703703703703, 0.867003367003367, 0.8644781144781145, 0.8602693602693603, 0.8552188552188552, 0.8535353535353535, 0.8518518518518519, 0.8459595959595959, 0.8400673400673401, 0.835016835016835, 0.8282828282828283, 0.8232323232323232, 0.819023569023569, 0.8156565656565656, 0.813973063973064, 0.8072390572390572, 0.8047138047138047, 0.7971380471380471, 0.7929292929292929, 0.7870370370370371, 0.7811447811447811, 0.7744107744107744, 0.7693602693602694, 0.765993265993266, 0.7592592592592593, 0.7550505050505051, 0.7508417508417509, 0.7424242424242424, 0.7365319865319865, 0.7297979797979798, 0.7222222222222222, 0.7146464646464646, 0.7070707070707071, 0.7028619528619529, 0.696969696969697, 0.6877104377104377, 0.6750841750841751, 0.6717171717171717, 0.6658249158249159, 0.6607744107744108, 0.6523569023569024, 0.6430976430976431, 0.6321548821548821, 0.6262626262626263, 0.6178451178451179, 0.6144781144781145, 0.6077441077441077, 0.6018518518518519, 0.5951178451178452, 0.5900673400673401, 0.5774410774410774, 0.5673400673400674, 0.5563973063973064, 0.5471380471380471, 0.5395622895622896, 0.5303030303030303, 0.5252525252525253, 0.515993265993266, 0.5067340067340067, 0.49326599326599324, 0.484006734006734, 0.4764309764309764, 0.46296296296296297, 0.4562289562289562, 0.44612794612794615, 0.42845117845117847, 0.41835016835016836, 0.4048821548821549, 0.38552188552188554, 0.36952861952861954, 0.35353535353535354, 0.3392255892255892, 0.3223905723905724, 0.3005050505050505, 0.2836700336700337, 0.2727272727272727, 0.25, 0.22474747474747475, 0.20707070707070707, 0.18434343434343434, 0.16077441077441076, 0.1388888888888889, 0.11195286195286196, 0.09343434343434344, 0.0707070707070707, 0.04461279461279461]\n"
     ]
    }
   ],
   "source": [
    "##########################\n",
    "# Реализуйте подсчет метрик TPR, FPR «вручную», без использования готовых функций из библиотеки sklearn.\n",
    "##########################\n",
    "# Создадим функцию для формирования массивов точек со значениями TPR, FPR и Threshold для заданного количества шагов\n",
    "# UPD: Для того, чтобы можно было выполнить последующие шаги в ДЗ, дополняю код функций ниже,\n",
    "# чтобы они позволили возвращать также значение Precision\n",
    "\n",
    "# Эта функция позволяет для конкретного значения порога посчитать величины tpr (recall), fpr, precision\n",
    "def count_roc_point(yy_test, yy_predictions, tresh):\n",
    "    tp, fn, fp, tn = 0, 0, 0, 0\n",
    "    for ind, yy in enumerate(yy_test):\n",
    "        if yy_predictions[ind] > tresh:\n",
    "            if yy == 1:\n",
    "                tp += 1\n",
    "            else:\n",
    "                fp += 1\n",
    "        else:\n",
    "            if yy == 1:\n",
    "                fn += 1\n",
    "            else:\n",
    "                tn += 1\n",
    "    tpr = tp / (tp + fn)\n",
    "    fpr = fp / (fp + tn)\n",
    "    precision = tp / (tp + fp)\n",
    "    return tpr, fpr, precision\n",
    "    \n",
    "# Эта функция в цикле изменяет порог границы от 0 до 1 с заданным количеством шагов (points)    \n",
    "# И возвращает четыре списка со значениями порогов и соответствующими ему значениями  fpr, tpr, precision\n",
    "def custom_roc_curve(yy_test, yy_predictions, points):\n",
    "    tresh_list, tpr_list, fpr_list, precision_list = [], [], [], []\n",
    "    for tresh in np.arange(0, 1, 1/points):\n",
    "        tpr_, fpr_, precision_ = count_roc_point(yy_test, yy_predictions, tresh)\n",
    "        tresh_list.append(tresh)\n",
    "        tpr_list.append(tpr_)\n",
    "        fpr_list.append(fpr_)\n",
    "        precision_list.append(precision_)\n",
    "    return fpr_list, tpr_list, precision_list, tresh_list    \n",
    "\n",
    "fpr_custom, tpr_custom, precision_custom, tresh_custom = custom_roc_curve(y_test, predictions_probabilities[:, 1], 150)        \n",
    "print(tpr_custom)"
   ]
  },
  {
   "cell_type": "code",
   "execution_count": 132,
   "id": "dcd30f97",
   "metadata": {},
   "outputs": [
    {
     "data": {
      "text/plain": [
       "<matplotlib.legend.Legend at 0x2b475c21fd0>"
      ]
     },
     "execution_count": 132,
     "metadata": {},
     "output_type": "execute_result"
    },
    {
     "data": {
      "image/png": "[encoded data removed]",
      "text/plain": [
       "<Figure size 432x288 with 1 Axes>"
      ]
     },
     "metadata": {
      "needs_background": "light"
     },
     "output_type": "display_data"
    }
   ],
   "source": [
    "##########################\n",
    "# Постройте ROC-кривую с помощью вычисленных в п. 5 метрик: объедините графики из п. 3 и п. 6 в один. Сравните, сделайте вывод.\n",
    "##########################\n",
    "plt.plot( fpr, tpr, label='Встроенная функция' )\n",
    "plt.plot( fpr_custom, tpr_custom, label='Самописная функция' )\n",
    "plt.title('ROC-кривые')\n",
    "plt.xlabel(\"False Positive Rate\")\n",
    "plt.ylabel(\"True Positive Rate\")\n",
    "plt.legend()\n",
    "#Похоже, кривые довольно неплохо совпадают. Прямо даже удивительно :)"
   ]
  },
  {
   "cell_type": "code",
   "execution_count": 129,
   "id": "656de45b",
   "metadata": {},
   "outputs": [
    {
     "data": {
      "text/plain": [
       "Text(0.5, 1.0, 'Кривая Precision-Recall')"
      ]
     },
     "execution_count": 129,
     "metadata": {},
     "output_type": "execute_result"
    },
    {
     "data": {
      "image/png": "[encoded data removed]",
      "text/plain": [
       "<Figure size 432x288 with 1 Axes>"
      ]
     },
     "metadata": {
      "needs_background": "light"
     },
     "output_type": "display_data"
    }
   ],
   "source": [
    "##########################\n",
    "# Постройте график Precision-Recall, используя метрики, посчитанные в п. 5.\n",
    "##########################\n",
    "# Ну откровенно говоря напрямую метрики, полученные ранее, для этого не использовать.\n",
    "# Но никто не мешает доработать одну из ранее определенных функций для того, чтобы можно было ее использовать\n",
    "# Для вычисления новых метрик. Recall у нас фактически совпадает с TPR, тут алгоритм сохраняется. А вот Precision надо посчитать\n",
    "# На этом этапе я вернулся на два шага назад и дополнил ранее созданные функции дополнительным функционалом,\n",
    "# который позволил вычислить recall (совпадает с tpr) и precision\n",
    "\n",
    "plt.plot( precision_custom, tpr_custom )\n",
    "plt.title('Кривая Precision-Recall')\n",
    "\n",
    "# Откровенно говоря, немного неожиданым выглядит загогулина в правом нижнем углу, но в целом характер кривой кажется ожидаемым."
   ]
  },
  {
   "cell_type": "code",
   "execution_count": 140,
   "id": "ea819f64",
   "metadata": {},
   "outputs": [
    {
     "name": "stdout",
     "output_type": "stream",
     "text": [
      "0.8839290602501987\n"
     ]
    }
   ],
   "source": [
    "##########################\n",
    "# *Вычислите значение ROC-AUC метрики, используя метрики, посчитанные в п. 5.\n",
    "##########################\n",
    "# Фактически нам надо посчитать площадь под кривой ROC. \n",
    "# Можно быстро написать цикл, который будет работать следующим образом\n",
    "# Мы последовательно переберем все интервалы между точками массива False Positive Rate\n",
    "# и пытаемся посчитать площадь трапеции, образованной точками [fpr(i),0], [fpr(i),tpr(i)], [fpr(i+1),tpr(i+1)]\n",
    "# Далее площади этих мини-трапеций складываем.\n",
    "# Поскольку \n",
    "\n",
    "def custom_roc_auc_score(tpr_, fpr_):\n",
    "    square_ = 0\n",
    "    last_fpr, last_tpr = 0, 0\n",
    "    for ind, fpr_i in enumerate(fpr_):\n",
    "        square_ += (fpr_i - last_fpr) * (tpr_[ind] + last_tpr) / 2\n",
    "        last_fpr = fpr_i\n",
    "        last_tpr = tpr_[ind]\n",
    "    return square_\n",
    "\n",
    "# При вызове функции точки в массивах переворачиваем, иначе ничего не получится\n",
    "print(custom_roc_auc_score(tpr_custom[::-1], fpr_custom[::-1]))    \n",
    "\n",
    "# Цифра получилась неплохая - она почти совпала с вычисленной с помощью встроенной функции (0.8840...)"
   ]
  }
 ],
 "metadata": {
  "kernelspec": {
   "display_name": "Python 3",
   "language": "python",
   "name": "python3"
  },
  "language_info": {
   "codemirror_mode": {
    "name": "ipython",
    "version": 3
   },
   "file_extension": ".py",
   "mimetype": "text/x-python",
   "name": "python",
   "nbconvert_exporter": "python",
   "pygments_lexer": "ipython3",
   "version": "3.8.8"
  }
 },
 "nbformat": 4,
 "nbformat_minor": 5
}
