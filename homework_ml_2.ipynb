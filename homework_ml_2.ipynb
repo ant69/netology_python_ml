{
 "cells": [
  {
   "cell_type": "markdown",
   "id": "d5cf79a8",
   "metadata": {},
   "source": [
    "# Классификация: Логистическая регрессия и SVM\n",
    "\n",
    "### Цель\n",
    "изучить применение модели логистической регрессии и метода опорных векторов в задаче бинарной классификации.\n",
    "\n",
    "### Описание задания\n",
    "В домашнем задании нужно решить задачу классификации физических лиц по уровню дохода. Данные для обучения модели хранятся в файле adult.csv, который можно найти в материалах к занятию или скачать с сайта.\n",
    "\n",
    "Целевая переменная – уровень дохода income, который принимает два значения <=50K и >50K, поэтому классификация бинарная. \n",
    "Остальные признаки описывают персональную информацию – возраст, образование, семейное положение и т. д. Подробное описание признаков и их возможные значения можно получить самостоятельно, используя функции Python3 для анализа датасета (describe, unique и т.д) или прочитать информацию по ссылке http://www.cs.toronto.edu/~delve/data/adult/adultDetail.html.\n",
    "\n",
    "Задачу классификации нужно решить при помощи обучения модели логистической регрессии и модели опорных векторов.\n",
    "\n",
    "### Этапы работы\n",
    "\n",
    "- Получите данные и загрузите их в рабочую среду. (Jupyter Notebook или другую)\n",
    "- Проведите первичный анализ.\n",
    "- Проверьте данные на пропуски. Удалите в случае обнаружения. *Предложите альтернативный способ работы с пропусками\n",
    "- Постройте 1-2 графика на выбор. Визуализация должна быть основана на исследуемых данных и быть полезной (из графика можно сделать вывод об особенностях датасета/класса/признака)\n",
    "- Преобразуйте категориальные признаки.\n",
    "- Разделите выборку на обучающее и тестовое подмножество. 80% данных оставить на обучающее множество, 20% на тестовое.\n",
    "- Обучите модели логистической регрессии и опорных векторов на обучающем множестве.\n",
    "- Для тестового множества предскажите уровень дохода и сравните с истинным значением, посчитав точность предсказания моделей. Для этого используйте встроенную функцию score.\n",
    "\n",
    "### Сформулируйте выводы по проделанной работе\n",
    "- Кратко опишите какие преобразования были сделаны с данными.\n",
    "- Сравните точность двух моделей.\n",
    "- Напишите свое мнение, в полной ли мере модели справились с поставленной задачей. *Что по вашему мнению нужно сделать, чтобы улучшить результат ?\n",
    "\n",
    "___\n",
    "Для получение зачета по этому домашнему заданию, минимально, должно быть реализовано обучение двух моделей классификации, выведена их точность.\n",
    "\n",
    "### Результат: \n",
    "получены базовые знания по подготовке данных к работе с моделями машинного обучения. Построено 2 модели классификации, сделан вывод о целесообразности их применения к данным.\n",
    "\n",
    "### Форма выполнения: \n",
    "ссылка на Jupyter Notebook, загруженный на GitHub; ссылка на Google Colab; файл с расширением .ipynb.\n",
    "\n",
    "### Инструменты: \n",
    "Jupyter Notebook/Google Colab; GitHub.\n",
    "\n",
    "### Срок выполнения: \n",
    "7 календарных дней\n",
    "\n",
    "*Рекомендации к выполнению:\n",
    "Текст оформляйте в отдельной ячейке Jupyter Notebook/Google Colab в формате markdown.\n",
    "У графиков должен быть заголовок, подписи осей, легенда (опционально). Делайте графики бОльшего размера, чем стандартный вывод, чтобы увеличить читаемость.\n",
    "Убедитесь, что по ссылкам есть доступ на чтение/просмотр.\n",
    "Убедитесь, что все ячейки в работе выполнены и можно увидеть их вывод без повторного запуска."
   ]
  },
  {
   "cell_type": "code",
   "execution_count": 1,
   "id": "5c887a65",
   "metadata": {},
   "outputs": [],
   "source": [
    "import pandas as pd\n",
    "import numpy as np"
   ]
  },
  {
   "cell_type": "code",
   "execution_count": 2,
   "id": "d4ba3287",
   "metadata": {},
   "outputs": [
    {
     "data": {
      "text/html": [
       "<div>\n",
       "<style scoped>\n",
       "    .dataframe tbody tr th:only-of-type {\n",
       "        vertical-align: middle;\n",
       "    }\n",
       "\n",
       "    .dataframe tbody tr th {\n",
       "        vertical-align: top;\n",
       "    }\n",
       "\n",
       "    .dataframe thead th {\n",
       "        text-align: right;\n",
       "    }\n",
       "</style>\n",
       "<table border=\"1\" class=\"dataframe\">\n",
       "  <thead>\n",
       "    <tr style=\"text-align: right;\">\n",
       "      <th></th>\n",
       "      <th>age</th>\n",
       "      <th>workclass</th>\n",
       "      <th>fnlwgt</th>\n",
       "      <th>education</th>\n",
       "      <th>educational-num</th>\n",
       "      <th>marital-status</th>\n",
       "      <th>occupation</th>\n",
       "      <th>relationship</th>\n",
       "      <th>race</th>\n",
       "      <th>gender</th>\n",
       "      <th>capital-gain</th>\n",
       "      <th>capital-loss</th>\n",
       "      <th>hours-per-week</th>\n",
       "      <th>native-country</th>\n",
       "      <th>income</th>\n",
       "    </tr>\n",
       "  </thead>\n",
       "  <tbody>\n",
       "    <tr>\n",
       "      <th>0</th>\n",
       "      <td>25</td>\n",
       "      <td>Private</td>\n",
       "      <td>226802</td>\n",
       "      <td>11th</td>\n",
       "      <td>7</td>\n",
       "      <td>Never-married</td>\n",
       "      <td>Machine-op-inspct</td>\n",
       "      <td>Own-child</td>\n",
       "      <td>Black</td>\n",
       "      <td>Male</td>\n",
       "      <td>0</td>\n",
       "      <td>0</td>\n",
       "      <td>40</td>\n",
       "      <td>United-States</td>\n",
       "      <td>&lt;=50K</td>\n",
       "    </tr>\n",
       "    <tr>\n",
       "      <th>1</th>\n",
       "      <td>38</td>\n",
       "      <td>Private</td>\n",
       "      <td>89814</td>\n",
       "      <td>HS-grad</td>\n",
       "      <td>9</td>\n",
       "      <td>Married-civ-spouse</td>\n",
       "      <td>Farming-fishing</td>\n",
       "      <td>Husband</td>\n",
       "      <td>White</td>\n",
       "      <td>Male</td>\n",
       "      <td>0</td>\n",
       "      <td>0</td>\n",
       "      <td>50</td>\n",
       "      <td>United-States</td>\n",
       "      <td>&lt;=50K</td>\n",
       "    </tr>\n",
       "    <tr>\n",
       "      <th>2</th>\n",
       "      <td>28</td>\n",
       "      <td>Local-gov</td>\n",
       "      <td>336951</td>\n",
       "      <td>Assoc-acdm</td>\n",
       "      <td>12</td>\n",
       "      <td>Married-civ-spouse</td>\n",
       "      <td>Protective-serv</td>\n",
       "      <td>Husband</td>\n",
       "      <td>White</td>\n",
       "      <td>Male</td>\n",
       "      <td>0</td>\n",
       "      <td>0</td>\n",
       "      <td>40</td>\n",
       "      <td>United-States</td>\n",
       "      <td>&gt;50K</td>\n",
       "    </tr>\n",
       "    <tr>\n",
       "      <th>3</th>\n",
       "      <td>44</td>\n",
       "      <td>Private</td>\n",
       "      <td>160323</td>\n",
       "      <td>Some-college</td>\n",
       "      <td>10</td>\n",
       "      <td>Married-civ-spouse</td>\n",
       "      <td>Machine-op-inspct</td>\n",
       "      <td>Husband</td>\n",
       "      <td>Black</td>\n",
       "      <td>Male</td>\n",
       "      <td>7688</td>\n",
       "      <td>0</td>\n",
       "      <td>40</td>\n",
       "      <td>United-States</td>\n",
       "      <td>&gt;50K</td>\n",
       "    </tr>\n",
       "    <tr>\n",
       "      <th>4</th>\n",
       "      <td>18</td>\n",
       "      <td>?</td>\n",
       "      <td>103497</td>\n",
       "      <td>Some-college</td>\n",
       "      <td>10</td>\n",
       "      <td>Never-married</td>\n",
       "      <td>?</td>\n",
       "      <td>Own-child</td>\n",
       "      <td>White</td>\n",
       "      <td>Female</td>\n",
       "      <td>0</td>\n",
       "      <td>0</td>\n",
       "      <td>30</td>\n",
       "      <td>United-States</td>\n",
       "      <td>&lt;=50K</td>\n",
       "    </tr>\n",
       "  </tbody>\n",
       "</table>\n",
       "</div>"
      ],
      "text/plain": [
       "   age  workclass  fnlwgt     education  educational-num      marital-status  \\\n",
       "0   25    Private  226802          11th                7       Never-married   \n",
       "1   38    Private   89814       HS-grad                9  Married-civ-spouse   \n",
       "2   28  Local-gov  336951    Assoc-acdm               12  Married-civ-spouse   \n",
       "3   44    Private  160323  Some-college               10  Married-civ-spouse   \n",
       "4   18          ?  103497  Some-college               10       Never-married   \n",
       "\n",
       "          occupation relationship   race  gender  capital-gain  capital-loss  \\\n",
       "0  Machine-op-inspct    Own-child  Black    Male             0             0   \n",
       "1    Farming-fishing      Husband  White    Male             0             0   \n",
       "2    Protective-serv      Husband  White    Male             0             0   \n",
       "3  Machine-op-inspct      Husband  Black    Male          7688             0   \n",
       "4                  ?    Own-child  White  Female             0             0   \n",
       "\n",
       "   hours-per-week native-country income  \n",
       "0              40  United-States  <=50K  \n",
       "1              50  United-States  <=50K  \n",
       "2              40  United-States   >50K  \n",
       "3              40  United-States   >50K  \n",
       "4              30  United-States  <=50K  "
      ]
     },
     "execution_count": 2,
     "metadata": {},
     "output_type": "execute_result"
    }
   ],
   "source": [
    "#######################################\n",
    "# Получите данные и загрузите их в рабочую среду. (Jupyter Notebook или другую)\n",
    "#######################################\n",
    "data = pd.read_csv( 'adult.csv' )\n",
    "\n",
    "#######################################\n",
    "# Проведите первичный анализ\n",
    "#######################################\n",
    "# Вначале изучил этот документ: http://www.cs.toronto.edu/~delve/data/adult/adultDetail.html\n",
    "# Ну а теперь - вольные эксперименты:\n",
    "\n",
    "data.head()\n"
   ]
  },
  {
   "cell_type": "code",
   "execution_count": 3,
   "id": "4e217a46",
   "metadata": {},
   "outputs": [
    {
     "name": "stdout",
     "output_type": "stream",
     "text": [
      "<class 'pandas.core.frame.DataFrame'>\n",
      "RangeIndex: 48842 entries, 0 to 48841\n",
      "Data columns (total 15 columns):\n",
      " #   Column           Non-Null Count  Dtype \n",
      "---  ------           --------------  ----- \n",
      " 0   age              48842 non-null  int64 \n",
      " 1   workclass        48842 non-null  object\n",
      " 2   fnlwgt           48842 non-null  int64 \n",
      " 3   education        48842 non-null  object\n",
      " 4   educational-num  48842 non-null  int64 \n",
      " 5   marital-status   48842 non-null  object\n",
      " 6   occupation       48842 non-null  object\n",
      " 7   relationship     48842 non-null  object\n",
      " 8   race             48842 non-null  object\n",
      " 9   gender           48842 non-null  object\n",
      " 10  capital-gain     48842 non-null  int64 \n",
      " 11  capital-loss     48842 non-null  int64 \n",
      " 12  hours-per-week   48842 non-null  int64 \n",
      " 13  native-country   48842 non-null  object\n",
      " 14  income           48842 non-null  object\n",
      "dtypes: int64(6), object(9)\n",
      "memory usage: 5.6+ MB\n"
     ]
    }
   ],
   "source": [
    "data.info()\n",
    "# Видно, что мы имеем в этом датасете \"разношерстный\" набор данных. Часть из них - параметрические, часть - категориальные\n",
    "# Далее проверим каждую из колонок на наличие пропусков"
   ]
  },
  {
   "cell_type": "code",
   "execution_count": 4,
   "id": "9562feac",
   "metadata": {},
   "outputs": [
    {
     "data": {
      "text/html": [
       "<div>\n",
       "<style scoped>\n",
       "    .dataframe tbody tr th:only-of-type {\n",
       "        vertical-align: middle;\n",
       "    }\n",
       "\n",
       "    .dataframe tbody tr th {\n",
       "        vertical-align: top;\n",
       "    }\n",
       "\n",
       "    .dataframe thead th {\n",
       "        text-align: right;\n",
       "    }\n",
       "</style>\n",
       "<table border=\"1\" class=\"dataframe\">\n",
       "  <thead>\n",
       "    <tr style=\"text-align: right;\">\n",
       "      <th></th>\n",
       "      <th>age</th>\n",
       "      <th>fnlwgt</th>\n",
       "      <th>educational-num</th>\n",
       "      <th>capital-gain</th>\n",
       "      <th>capital-loss</th>\n",
       "      <th>hours-per-week</th>\n",
       "    </tr>\n",
       "  </thead>\n",
       "  <tbody>\n",
       "    <tr>\n",
       "      <th>count</th>\n",
       "      <td>48842.000000</td>\n",
       "      <td>4.884200e+04</td>\n",
       "      <td>48842.000000</td>\n",
       "      <td>48842.000000</td>\n",
       "      <td>48842.000000</td>\n",
       "      <td>48842.000000</td>\n",
       "    </tr>\n",
       "    <tr>\n",
       "      <th>mean</th>\n",
       "      <td>38.643585</td>\n",
       "      <td>1.896641e+05</td>\n",
       "      <td>10.078089</td>\n",
       "      <td>1079.067626</td>\n",
       "      <td>87.502314</td>\n",
       "      <td>40.422382</td>\n",
       "    </tr>\n",
       "    <tr>\n",
       "      <th>std</th>\n",
       "      <td>13.710510</td>\n",
       "      <td>1.056040e+05</td>\n",
       "      <td>2.570973</td>\n",
       "      <td>7452.019058</td>\n",
       "      <td>403.004552</td>\n",
       "      <td>12.391444</td>\n",
       "    </tr>\n",
       "    <tr>\n",
       "      <th>min</th>\n",
       "      <td>17.000000</td>\n",
       "      <td>1.228500e+04</td>\n",
       "      <td>1.000000</td>\n",
       "      <td>0.000000</td>\n",
       "      <td>0.000000</td>\n",
       "      <td>1.000000</td>\n",
       "    </tr>\n",
       "    <tr>\n",
       "      <th>25%</th>\n",
       "      <td>28.000000</td>\n",
       "      <td>1.175505e+05</td>\n",
       "      <td>9.000000</td>\n",
       "      <td>0.000000</td>\n",
       "      <td>0.000000</td>\n",
       "      <td>40.000000</td>\n",
       "    </tr>\n",
       "    <tr>\n",
       "      <th>50%</th>\n",
       "      <td>37.000000</td>\n",
       "      <td>1.781445e+05</td>\n",
       "      <td>10.000000</td>\n",
       "      <td>0.000000</td>\n",
       "      <td>0.000000</td>\n",
       "      <td>40.000000</td>\n",
       "    </tr>\n",
       "    <tr>\n",
       "      <th>75%</th>\n",
       "      <td>48.000000</td>\n",
       "      <td>2.376420e+05</td>\n",
       "      <td>12.000000</td>\n",
       "      <td>0.000000</td>\n",
       "      <td>0.000000</td>\n",
       "      <td>45.000000</td>\n",
       "    </tr>\n",
       "    <tr>\n",
       "      <th>max</th>\n",
       "      <td>90.000000</td>\n",
       "      <td>1.490400e+06</td>\n",
       "      <td>16.000000</td>\n",
       "      <td>99999.000000</td>\n",
       "      <td>4356.000000</td>\n",
       "      <td>99.000000</td>\n",
       "    </tr>\n",
       "  </tbody>\n",
       "</table>\n",
       "</div>"
      ],
      "text/plain": [
       "                age        fnlwgt  educational-num  capital-gain  \\\n",
       "count  48842.000000  4.884200e+04     48842.000000  48842.000000   \n",
       "mean      38.643585  1.896641e+05        10.078089   1079.067626   \n",
       "std       13.710510  1.056040e+05         2.570973   7452.019058   \n",
       "min       17.000000  1.228500e+04         1.000000      0.000000   \n",
       "25%       28.000000  1.175505e+05         9.000000      0.000000   \n",
       "50%       37.000000  1.781445e+05        10.000000      0.000000   \n",
       "75%       48.000000  2.376420e+05        12.000000      0.000000   \n",
       "max       90.000000  1.490400e+06        16.000000  99999.000000   \n",
       "\n",
       "       capital-loss  hours-per-week  \n",
       "count  48842.000000    48842.000000  \n",
       "mean      87.502314       40.422382  \n",
       "std      403.004552       12.391444  \n",
       "min        0.000000        1.000000  \n",
       "25%        0.000000       40.000000  \n",
       "50%        0.000000       40.000000  \n",
       "75%        0.000000       45.000000  \n",
       "max     4356.000000       99.000000  "
      ]
     },
     "execution_count": 4,
     "metadata": {},
     "output_type": "execute_result"
    }
   ],
   "source": [
    "# Сразу зафиксируем текущее количество строк в датафрейме. Пригодится потом\n",
    "data_start_cnt = data.age.count()\n",
    "\n",
    "data.describe()\n",
    "# Видим, что колонки age, fnlwgt, educational-num, capital-gain, capital-loss, hours-per-week - параметрические,\n",
    "# пропусков не содержат (количество строк с живыми данными по каждой из колонок совпадает и равно 48842)"
   ]
  },
  {
   "cell_type": "code",
   "execution_count": 5,
   "id": "7236493c",
   "metadata": {},
   "outputs": [],
   "source": [
    "# Попытка отсортировать датасет по возрасту, чтобы под другим углом посмотреть на данные. На данном этапе это преждевременно.\n",
    "#data.sort_values(['age'], ascending=[1])"
   ]
  },
  {
   "cell_type": "code",
   "execution_count": 6,
   "id": "5c9a3901",
   "metadata": {},
   "outputs": [
    {
     "data": {
      "text/plain": [
       "workclass\n",
       "?                    2799\n",
       "Federal-gov          1432\n",
       "Local-gov            3136\n",
       "Never-worked           10\n",
       "Private             33906\n",
       "Self-emp-inc         1695\n",
       "Self-emp-not-inc     3862\n",
       "State-gov            1981\n",
       "Without-pay            21\n",
       "Name: workclass, dtype: int64"
      ]
     },
     "execution_count": 6,
     "metadata": {},
     "output_type": "execute_result"
    }
   ],
   "source": [
    "#######################################\n",
    "# Проверьте данные на пропуски. Удалите в случае обнаружения. *Предложите альтернативный способ работы с пропусками\n",
    "#######################################\n",
    "# Изучим ситуацию с пропусками\n",
    "data.workclass.describe()\n",
    "data.groupby('workclass').workclass.count()\n",
    "# В поле workclass 2799 пропусков из 48842 записей (около 5 процентов от общего объема выборки)\n",
    "# Записи с пропусками в соответсвии с заданием удалим (чуть позже). Если не удалять, то можно использовать несколько подходов\n",
    "# по замене. Первый вариант - поставить для всех этих строк значение самого популярного значения - Private.\n",
    "# Второй вариант (и мне он нравится больше) - для каждой строки с пропусками поискать строки в датасете, которые максимально\n",
    "# похожи, к примеру с помощью вычислений углов между векторами. Но это уже потом, \n",
    "# после замены категориальных данных целочисленными значениями"
   ]
  },
  {
   "cell_type": "code",
   "execution_count": 7,
   "id": "eef57b92",
   "metadata": {},
   "outputs": [
    {
     "data": {
      "text/plain": [
       "education\n",
       "10th             1389\n",
       "11th             1812\n",
       "12th              657\n",
       "1st-4th           247\n",
       "5th-6th           509\n",
       "7th-8th           955\n",
       "9th               756\n",
       "Assoc-acdm       1601\n",
       "Assoc-voc        2061\n",
       "Bachelors        8025\n",
       "Doctorate         594\n",
       "HS-grad         15784\n",
       "Masters          2657\n",
       "Preschool          83\n",
       "Prof-school       834\n",
       "Some-college    10878\n",
       "Name: education, dtype: int64"
      ]
     },
     "execution_count": 7,
     "metadata": {},
     "output_type": "execute_result"
    }
   ],
   "source": [
    "# Поле education\n",
    "data.education.describe()\n",
    "data.groupby('education').education.count()\n",
    "# пропусков не обнаружено. При этом видно, что данный справочник содержит категориальные данные, которые могут ранжироваться\n",
    "# по уровню. В этой связи кажется разумным использовать для замены этих признаков предварительно расставить их \"по возрастанию\"\n",
    "# и заменить соответствующим рядом цифр\n",
    "# UPD: Последующий анализ позволил увидеть, что это уже сделано - в столбце educational-num содержатся как раз коды уровней"
   ]
  },
  {
   "cell_type": "code",
   "execution_count": 9,
   "id": "3332ca8d",
   "metadata": {},
   "outputs": [
    {
     "data": {
      "text/html": [
       "<div>\n",
       "<style scoped>\n",
       "    .dataframe tbody tr th:only-of-type {\n",
       "        vertical-align: middle;\n",
       "    }\n",
       "\n",
       "    .dataframe tbody tr th {\n",
       "        vertical-align: top;\n",
       "    }\n",
       "\n",
       "    .dataframe thead th {\n",
       "        text-align: right;\n",
       "    }\n",
       "</style>\n",
       "<table border=\"1\" class=\"dataframe\">\n",
       "  <thead>\n",
       "    <tr style=\"text-align: right;\">\n",
       "      <th></th>\n",
       "      <th>education</th>\n",
       "      <th>educational-num</th>\n",
       "    </tr>\n",
       "  </thead>\n",
       "  <tbody>\n",
       "    <tr>\n",
       "      <th>779</th>\n",
       "      <td>Preschool</td>\n",
       "      <td>1</td>\n",
       "    </tr>\n",
       "    <tr>\n",
       "      <th>323</th>\n",
       "      <td>1st-4th</td>\n",
       "      <td>2</td>\n",
       "    </tr>\n",
       "    <tr>\n",
       "      <th>37</th>\n",
       "      <td>5th-6th</td>\n",
       "      <td>3</td>\n",
       "    </tr>\n",
       "    <tr>\n",
       "      <th>9</th>\n",
       "      <td>7th-8th</td>\n",
       "      <td>4</td>\n",
       "    </tr>\n",
       "    <tr>\n",
       "      <th>54</th>\n",
       "      <td>9th</td>\n",
       "      <td>5</td>\n",
       "    </tr>\n",
       "    <tr>\n",
       "      <th>5</th>\n",
       "      <td>10th</td>\n",
       "      <td>6</td>\n",
       "    </tr>\n",
       "    <tr>\n",
       "      <th>0</th>\n",
       "      <td>11th</td>\n",
       "      <td>7</td>\n",
       "    </tr>\n",
       "    <tr>\n",
       "      <th>173</th>\n",
       "      <td>12th</td>\n",
       "      <td>8</td>\n",
       "    </tr>\n",
       "    <tr>\n",
       "      <th>1</th>\n",
       "      <td>HS-grad</td>\n",
       "      <td>9</td>\n",
       "    </tr>\n",
       "    <tr>\n",
       "      <th>3</th>\n",
       "      <td>Some-college</td>\n",
       "      <td>10</td>\n",
       "    </tr>\n",
       "    <tr>\n",
       "      <th>41</th>\n",
       "      <td>Assoc-voc</td>\n",
       "      <td>11</td>\n",
       "    </tr>\n",
       "    <tr>\n",
       "      <th>2</th>\n",
       "      <td>Assoc-acdm</td>\n",
       "      <td>12</td>\n",
       "    </tr>\n",
       "    <tr>\n",
       "      <th>11</th>\n",
       "      <td>Bachelors</td>\n",
       "      <td>13</td>\n",
       "    </tr>\n",
       "    <tr>\n",
       "      <th>15</th>\n",
       "      <td>Masters</td>\n",
       "      <td>14</td>\n",
       "    </tr>\n",
       "    <tr>\n",
       "      <th>7</th>\n",
       "      <td>Prof-school</td>\n",
       "      <td>15</td>\n",
       "    </tr>\n",
       "    <tr>\n",
       "      <th>19</th>\n",
       "      <td>Doctorate</td>\n",
       "      <td>16</td>\n",
       "    </tr>\n",
       "  </tbody>\n",
       "</table>\n",
       "</div>"
      ],
      "text/plain": [
       "        education  educational-num\n",
       "779     Preschool                1\n",
       "323       1st-4th                2\n",
       "37        5th-6th                3\n",
       "9         7th-8th                4\n",
       "54            9th                5\n",
       "5            10th                6\n",
       "0            11th                7\n",
       "173          12th                8\n",
       "1         HS-grad                9\n",
       "3    Some-college               10\n",
       "41      Assoc-voc               11\n",
       "2      Assoc-acdm               12\n",
       "11      Bachelors               13\n",
       "15        Masters               14\n",
       "7     Prof-school               15\n",
       "19      Doctorate               16"
      ]
     },
     "execution_count": 9,
     "metadata": {},
     "output_type": "execute_result"
    }
   ],
   "source": [
    "# Вот, собственно, пруф: выделяем из датафрейма две этих колонки, удаляем дубликаты и сортируем для наглядности:\n",
    "data[['education', 'educational-num']].drop_duplicates().sort_values(['educational-num'], ascending=[1])"
   ]
  },
  {
   "cell_type": "code",
   "execution_count": 10,
   "id": "c6e19f95",
   "metadata": {},
   "outputs": [
    {
     "data": {
      "text/plain": [
       "marital-status\n",
       "Divorced                  6633\n",
       "Married-AF-spouse           37\n",
       "Married-civ-spouse       22379\n",
       "Married-spouse-absent      628\n",
       "Never-married            16117\n",
       "Separated                 1530\n",
       "Widowed                   1518\n",
       "Name: marital-status, dtype: int64"
      ]
     },
     "execution_count": 10,
     "metadata": {},
     "output_type": "execute_result"
    }
   ],
   "source": [
    "# marital-status\n",
    "# data['marital-status'].describe()\n",
    "data.groupby('marital-status')['marital-status'].count()\n",
    "# В этой колонке пропусков не обнаружено"
   ]
  },
  {
   "cell_type": "code",
   "execution_count": 11,
   "id": "42273c5d",
   "metadata": {},
   "outputs": [
    {
     "data": {
      "text/plain": [
       "occupation\n",
       "?                    2809\n",
       "Adm-clerical         5611\n",
       "Armed-Forces           15\n",
       "Craft-repair         6112\n",
       "Exec-managerial      6086\n",
       "Farming-fishing      1490\n",
       "Handlers-cleaners    2072\n",
       "Machine-op-inspct    3022\n",
       "Other-service        4923\n",
       "Priv-house-serv       242\n",
       "Prof-specialty       6172\n",
       "Protective-serv       983\n",
       "Sales                5504\n",
       "Tech-support         1446\n",
       "Transport-moving     2355\n",
       "Name: occupation, dtype: int64"
      ]
     },
     "execution_count": 11,
     "metadata": {},
     "output_type": "execute_result"
    }
   ],
   "source": [
    "# occupation\n",
    "# data['occupation'].describe()\n",
    "data.groupby('occupation')['occupation'].count()\n",
    "# В этой колонке 2809 пропусков\n",
    "# Строки с отсутствующими данными удалим. Если не удалять, то в отличие от предыдущей колонки в этой нет значения\n",
    "# - явного \"лидера\", и для подстановки значения вместо пропуска я бы скорее выбрал способ с вычислением косинусных разностей\n",
    "# с другими строками, выбрал десятка два самых похожих строк и выбрал бы самое популярное значение этого поля среди этих строк"
   ]
  },
  {
   "cell_type": "code",
   "execution_count": 12,
   "id": "4714062f",
   "metadata": {},
   "outputs": [
    {
     "data": {
      "text/plain": [
       "relationship\n",
       "Husband           19716\n",
       "Not-in-family     12583\n",
       "Other-relative     1506\n",
       "Own-child          7581\n",
       "Unmarried          5125\n",
       "Wife               2331\n",
       "Name: relationship, dtype: int64"
      ]
     },
     "execution_count": 12,
     "metadata": {},
     "output_type": "execute_result"
    }
   ],
   "source": [
    "# relationship\n",
    "# data['relationship'].describe()\n",
    "data.groupby('relationship')['relationship'].count()\n",
    "# Тут повезло, пропусков нет. Заменим категории на целые числа, без попытки их ранжирования."
   ]
  },
  {
   "cell_type": "code",
   "execution_count": 13,
   "id": "2817539c",
   "metadata": {},
   "outputs": [
    {
     "data": {
      "text/plain": [
       "race\n",
       "Amer-Indian-Eskimo      470\n",
       "Asian-Pac-Islander     1519\n",
       "Black                  4685\n",
       "Other                   406\n",
       "White                 41762\n",
       "Name: race, dtype: int64"
      ]
     },
     "execution_count": 13,
     "metadata": {},
     "output_type": "execute_result"
    }
   ],
   "source": [
    "# race\n",
    "# data['race'].describe()\n",
    "data.groupby('race')['race'].count()\n",
    "# И тут пропусков нет. Аналогично - заменим категории на целые числа, без попытки их ранжирования."
   ]
  },
  {
   "cell_type": "code",
   "execution_count": 14,
   "id": "22f3443e",
   "metadata": {},
   "outputs": [
    {
     "data": {
      "text/plain": [
       "gender\n",
       "Female    16192\n",
       "Male      32650\n",
       "Name: gender, dtype: int64"
      ]
     },
     "execution_count": 14,
     "metadata": {},
     "output_type": "execute_result"
    }
   ],
   "source": [
    "# gender\n",
    "# data['gender'].describe()\n",
    "data.groupby('gender')['gender'].count()\n",
    "# Мальчиков больше в два раза, неопределившихся нет. Запомним это на всякий случай."
   ]
  },
  {
   "cell_type": "code",
   "execution_count": 15,
   "id": "86dc548d",
   "metadata": {},
   "outputs": [
    {
     "data": {
      "text/plain": [
       "native-country\n",
       "?                               857\n",
       "Cambodia                         28\n",
       "Canada                          182\n",
       "China                           122\n",
       "Columbia                         85\n",
       "Cuba                            138\n",
       "Dominican-Republic              103\n",
       "Ecuador                          45\n",
       "El-Salvador                     155\n",
       "England                         127\n",
       "France                           38\n",
       "Germany                         206\n",
       "Greece                           49\n",
       "Guatemala                        88\n",
       "Haiti                            75\n",
       "Holand-Netherlands                1\n",
       "Honduras                         20\n",
       "Hong                             30\n",
       "Hungary                          19\n",
       "India                           151\n",
       "Iran                             59\n",
       "Ireland                          37\n",
       "Italy                           105\n",
       "Jamaica                         106\n",
       "Japan                            92\n",
       "Laos                             23\n",
       "Mexico                          951\n",
       "Nicaragua                        49\n",
       "Outlying-US(Guam-USVI-etc)       23\n",
       "Peru                             46\n",
       "Philippines                     295\n",
       "Poland                           87\n",
       "Portugal                         67\n",
       "Puerto-Rico                     184\n",
       "Scotland                         21\n",
       "South                           115\n",
       "Taiwan                           65\n",
       "Thailand                         30\n",
       "Trinadad&Tobago                  27\n",
       "United-States                 43832\n",
       "Vietnam                          86\n",
       "Yugoslavia                       23\n",
       "Name: native-country, dtype: int64"
      ]
     },
     "execution_count": 15,
     "metadata": {},
     "output_type": "execute_result"
    }
   ],
   "source": [
    "# native-country\n",
    "# data['native-country'].native-country()\n",
    "data.groupby('native-country')['native-country'].count()\n",
    "# Тут 857 пропусков. Строки с этими пропусками удалим, раз это указано в условиях задачи.\n",
    "# Но с заменой пропусков здесь я бы вообще ввел отдельную категорию - неопределенное значение.\n",
    "# То есть после замены категорий для каждой из стран каким-то своим id я бы свой уникальный id ввел и для пропуска.\n",
    "# Можно было бы анализировать имя и фамилию человека, если бы они были указаны. Но на что опираться в данном случае?\n",
    "# С другой стороны есть страны с разным уровнем жизни. Если бы все страны были сегментированы на несколько групп,\n",
    "# определяющих уровень дохода в них по какой-то шкале, то можно было бы этот показатель заполнять, выбирая произвольную страну\n",
    "# из той группы стран, которые указаны в максимально похожих на текущую запись других записях.\n",
    "# Другой способ, наверное - гораздо более рациональный, поступить так же, как можно поступить с полем workclass, \n",
    "# т.е. для пропусков поставить United-States. Количество записей с людьми из этой страны в датасете - около 90 процентов. "
   ]
  },
  {
   "cell_type": "code",
   "execution_count": 16,
   "id": "0cebf627",
   "metadata": {},
   "outputs": [
    {
     "data": {
      "text/plain": [
       "income\n",
       "<=50K    37155\n",
       ">50K     11687\n",
       "Name: income, dtype: int64"
      ]
     },
     "execution_count": 16,
     "metadata": {},
     "output_type": "execute_result"
    }
   ],
   "source": [
    "# На всякий случай смотрим, что у нас и с целевым полем income\n",
    "# data['income'].describe()\n",
    "data.groupby('income')['income'].count()\n",
    "# Вроде бы все данные на месте."
   ]
  },
  {
   "cell_type": "code",
   "execution_count": 17,
   "id": "5bd39e54",
   "metadata": {},
   "outputs": [],
   "source": [
    "# Итого получилось, что мы обнаружили три колонки с пропусками в данных.\n",
    "# Всего записей в датасете - 48842\n",
    "# Пропусков в колонке workclass - 2799\n",
    "# Пропусков в колонке occupation - 2809\n",
    "# Пропусков в колонке native-country - 857\n",
    "# Очевидно, что могут быть строки, в которых пропуски есть более чем в одной колонке,\n",
    "# но в самом худшем случае \"битых\" строк не больше 6500, т.е. около 14 процентов об общего количества.\n",
    "# После удаления строк получим точную цифру.\n",
    "\n",
    "# Диагностика закончилась, приступаем к хирургии"
   ]
  },
  {
   "cell_type": "code",
   "execution_count": 18,
   "id": "4b1e0795",
   "metadata": {},
   "outputs": [
    {
     "data": {
      "text/plain": [
       "age                45222\n",
       "workclass          45222\n",
       "fnlwgt             45222\n",
       "education          45222\n",
       "educational-num    45222\n",
       "marital-status     45222\n",
       "occupation         45222\n",
       "relationship       45222\n",
       "race               45222\n",
       "gender             45222\n",
       "capital-gain       45222\n",
       "capital-loss       45222\n",
       "hours-per-week     45222\n",
       "native-country     45222\n",
       "income             45222\n",
       "dtype: int64"
      ]
     },
     "execution_count": 18,
     "metadata": {},
     "output_type": "execute_result"
    }
   ],
   "source": [
    "# Вначале удалим все строки с неполными данными\n",
    "data_f = data.loc[((data['workclass'] != '?') & (data['occupation'] != '?') & (data['native-country'] != '?'))]\n",
    "data_f.count()"
   ]
  },
  {
   "cell_type": "code",
   "execution_count": 19,
   "id": "774d98fd",
   "metadata": {},
   "outputs": [
    {
     "name": "stdout",
     "output_type": "stream",
     "text": [
      "Из 48842 осталось 45222\n",
      "Это составляет 92.59 процентов\n"
     ]
    }
   ],
   "source": [
    "# Данные с пропусками удалены.\n",
    "# Посчитаем:\n",
    "data_filtered_cnt = data_f.age.count()\n",
    "\n",
    "print(f'Из {data_start_cnt} осталось {data_filtered_cnt}\\nЭто составляет {round(data_filtered_cnt*100/data_start_cnt, 2)} процентов')"
   ]
  },
  {
   "cell_type": "code",
   "execution_count": null,
   "id": "73d370f6",
   "metadata": {},
   "outputs": [],
   "source": [
    "# Отлично. 7.5 процентов ампутировли"
   ]
  },
  {
   "cell_type": "code",
   "execution_count": 20,
   "id": "8dc57e04",
   "metadata": {},
   "outputs": [],
   "source": [
    "#######################################\n",
    "# Постройте 1-2 графика на выбор. Визуализация должна быть основана на исследуемых данных и быть полезной \n",
    "# (из графика можно сделать вывод об особенностях датасета/класса/признака)\n",
    "#######################################\n",
    "# Грузим библиотеку\n",
    "import matplotlib.pyplot as plt\n",
    "\n",
    "#увеличим дефолтный размер графиков\n",
    "from pylab import rcParams\n",
    "rcParams['figure.figsize'] = 12,8"
   ]
  },
  {
   "cell_type": "code",
   "execution_count": null,
   "id": "1263ecd1",
   "metadata": {},
   "outputs": [],
   "source": [
    "# Почему-то сразу захотелось нарисовать парочку scatter plot, на которых будут две группы точек. \n",
    "# Каждая из групп будет соответствовать целевой переменной. Ну а по осям - разные параметры из dataframe.\n",
    "# Параметрические колонки на данном этапе у нас такие:\n",
    "# age\tfnlwgt\teducational-num\tcapital-gain\tcapital-loss\thours-per-week\n",
    "# Интуитивно кажется интересным посмотреть на возраст, уровень образования, прирост капитала\n",
    "\n",
    "# Поскольку смысл параметра fnlwgt из контекста непонятен, я предпринял поиск в сети и нашел вот эту страничку:\n",
    "# https://www.kaggle.com/uciml/adult-census-income/discussion/32698\n",
    "# Исходя из прочитанного создается ощущение, что эта колонка могла бы собой заменить значения других колонок \n",
    "# возраста, пола, расы. Потом проверим.\n",
    "# А пока посмотрим и этот параметр на графике."
   ]
  },
  {
   "cell_type": "code",
   "execution_count": 21,
   "id": "00db97b0",
   "metadata": {},
   "outputs": [
    {
     "data": {
      "text/plain": [
       "<AxesSubplot:xlabel='age', ylabel='educational-num'>"
      ]
     },
     "execution_count": 21,
     "metadata": {},
     "output_type": "execute_result"
    },
    {
     "data": {
      "image/png": "[encoded data removed]",
      "text/plain": [
       "<Figure size 864x576 with 1 Axes>"
      ]
     },
     "metadata": {
      "needs_background": "light"
     },
     "output_type": "display_data"
    }
   ],
   "source": [
    "data_f.plot(kind='scatter', x='age', y='educational-num')"
   ]
  },
  {
   "cell_type": "code",
   "execution_count": 22,
   "id": "689064aa",
   "metadata": {},
   "outputs": [
    {
     "data": {
      "text/plain": [
       "<matplotlib.collections.PathCollection at 0x2378d4c0580>"
      ]
     },
     "execution_count": 22,
     "metadata": {},
     "output_type": "execute_result"
    },
    {
     "data": {
      "image/png": "[encoded data removed]",
      "text/plain": [
       "<Figure size 864x576 with 1 Axes>"
      ]
     },
     "metadata": {
      "needs_background": "light"
     },
     "output_type": "display_data"
    }
   ],
   "source": [
    "# А теперь то же самое, но по целевому значению\n",
    "data_f_true = data_f.loc[((data['income'] == '>50K'))]\n",
    "data_f_false = data_f.loc[((data['income'] != '>50K'))]\n",
    "plt.scatter(data_f_false['age'], data_f_false['educational-num'], c='red', s=5)\n",
    "plt.scatter(data_f_true['age'], data_f_true['educational-num'], c='green', s=5)\n",
    "\n",
    "# Отличный результат, тут уже кое-что видно, но пока не очень четко. Уровень образования, очевидно, является одним из самых\n",
    "# существенных факторов. Богатых и малообразованных значительно меньше, чем богатых образованных."
   ]
  },
  {
   "cell_type": "code",
   "execution_count": 23,
   "id": "a595b1c7",
   "metadata": {},
   "outputs": [
    {
     "data": {
      "text/plain": [
       "<matplotlib.collections.PathCollection at 0x2378d6ea340>"
      ]
     },
     "execution_count": 23,
     "metadata": {},
     "output_type": "execute_result"
    },
    {
     "data": {
      "image/png": "[encoded data removed]",
      "text/plain": [
       "<Figure size 864x576 with 1 Axes>"
      ]
     },
     "metadata": {
      "needs_background": "light"
     },
     "output_type": "display_data"
    }
   ],
   "source": [
    "# А теперь то же самое, но сравним возраст и capital-gain\n",
    "plt.scatter(data_f_false['age'], data_f_false['capital-gain'], c='red', s=5)\n",
    "plt.scatter(data_f_true['age'], data_f_true['capital-gain'], c='green', s=5)\n",
    "\n",
    "# График странный, но довольно любопытный по-своему\n",
    "# во-первых видно, что данные в колонке capital-gain дискретные. Во-вторых виден большой провал в значениях этого параметра\n",
    "# между 40000 и 100000, в основном данные сгруппированы в районе от 0 до 15000\n",
    "# Много данных оказалось на значении 0, причем для обоих вариантов целевого значения"
   ]
  },
  {
   "cell_type": "code",
   "execution_count": 24,
   "id": "6ff69b2f",
   "metadata": {},
   "outputs": [],
   "source": [
    "# Попробуем подключить библиотеку SeaBorn и посмотреть еще один вариант диаграмм\n",
    "import seaborn as sns"
   ]
  },
  {
   "cell_type": "code",
   "execution_count": 25,
   "id": "3f243fe4",
   "metadata": {},
   "outputs": [
    {
     "name": "stdout",
     "output_type": "stream",
     "text": [
      "education       10th       11th       12th    1st-4th    5th-6th    7th-8th  \\\n",
      "income                                                                        \n",
      "<=50K      36.902717  33.678431  34.732210  38.742991  38.557377  39.212240   \n",
      ">50K       45.914634  45.831461  46.139535  51.000000  44.318182  48.181818   \n",
      "\n",
      "education        9th  Assoc-acdm  Assoc-voc  Bachelors  Doctorate    HS-grad  \\\n",
      "income                                                                         \n",
      "<=50K      38.615987   40.252480  41.184192  40.875911  44.875862  40.301205   \n",
      ">50K       45.368421   45.062814  44.386905  45.535242  48.167920  45.193709   \n",
      "\n",
      "education    Masters  Preschool  Prof-school  Some-college  \n",
      "income                                                      \n",
      "<=50K      41.507583  36.746479    43.461140     38.055759  \n",
      ">50K       45.960517  40.000000    49.381757     45.122111  \n"
     ]
    },
    {
     "data": {
      "text/plain": [
       "<AxesSubplot:xlabel='education', ylabel='income'>"
      ]
     },
     "execution_count": 25,
     "metadata": {},
     "output_type": "execute_result"
    },
    {
     "data": {
      "image/png": "[encoded data removed]",
      "text/plain": [
       "<Figure size 864x576 with 2 Axes>"
      ]
     },
     "metadata": {
      "needs_background": "light"
     },
     "output_type": "display_data"
    }
   ],
   "source": [
    "# Посмотрим heatmap и попробуем с помощью этого типа диаграммы посмотреть на то, есть ли какие-то уровни влияния\n",
    "# среднего количества рабочих часов в неделю на целевой результат для людей с разным уровнем образования\n",
    "income_by_age = data_f.pivot_table(\n",
    "                        index='income', \n",
    "                        columns='education', \n",
    "                        values='hours-per-week', \n",
    "                        aggfunc={'hours-per-week':'mean'})\n",
    "\n",
    "print(income_by_age)\n",
    "sns.heatmap(income_by_age)\n",
    "# Получили лишнее свидетельство того, что кто не работает, тот не ест.\n",
    "# Но вообще график странный и, похоже, не очень информативный."
   ]
  },
  {
   "cell_type": "code",
   "execution_count": 26,
   "id": "e1ca9561",
   "metadata": {},
   "outputs": [
    {
     "name": "stdout",
     "output_type": "stream",
     "text": [
      "education   10th   11th  12th  1st-4th  5th-6th  7th-8th   9th  Assoc-acdm  \\\n",
      "age                                                                          \n",
      "17         150.0  232.0  57.0      NaN      3.0      4.0  32.0         NaN   \n",
      "18          43.0  219.0  73.0      NaN      5.0      6.0   9.0         NaN   \n",
      "19          20.0   59.0  32.0      3.0      3.0     10.0  11.0         2.0   \n",
      "20          13.0   32.0  17.0      1.0      7.0      5.0  17.0        13.0   \n",
      "21          22.0   22.0   9.0      1.0      8.0      7.0  11.0        26.0   \n",
      "..           ...    ...   ...      ...      ...      ...   ...         ...   \n",
      "86           NaN    NaN   NaN      NaN      NaN      NaN   NaN         NaN   \n",
      "87           NaN    NaN   NaN      NaN      NaN      NaN   NaN         NaN   \n",
      "88           NaN    1.0   NaN      NaN      NaN      1.0   NaN         NaN   \n",
      "89           NaN    NaN   NaN      NaN      NaN      NaN   NaN         NaN   \n",
      "90           1.0    2.0   NaN      NaN      NaN      2.0   1.0         3.0   \n",
      "\n",
      "education  Assoc-voc  Bachelors  Doctorate  HS-grad  Masters  Preschool  \\\n",
      "age                                                                       \n",
      "17               NaN        NaN        NaN     12.0      NaN        NaN   \n",
      "18               NaN        NaN        NaN    205.0      1.0        NaN   \n",
      "19               5.0        1.0        NaN    343.0      NaN        3.0   \n",
      "20              11.0        1.0        NaN    314.0      1.0        1.0   \n",
      "21              36.0       10.0        NaN    328.0      1.0        4.0   \n",
      "..               ...        ...        ...      ...      ...        ...   \n",
      "86               NaN        NaN        NaN      NaN      1.0        NaN   \n",
      "87               NaN        NaN        NaN      1.0      NaN        NaN   \n",
      "88               NaN        NaN        NaN      NaN      NaN        NaN   \n",
      "89               NaN        1.0        NaN      NaN      NaN        NaN   \n",
      "90               NaN        7.0        NaN     15.0      5.0        NaN   \n",
      "\n",
      "education  Prof-school  Some-college  \n",
      "age                                   \n",
      "17                 NaN           3.0  \n",
      "18                 NaN         134.0  \n",
      "19                 NaN         372.0  \n",
      "20                 NaN         483.0  \n",
      "21                 NaN         450.0  \n",
      "..                 ...           ...  \n",
      "86                 NaN           NaN  \n",
      "87                 NaN           NaN  \n",
      "88                 2.0           1.0  \n",
      "89                 NaN           NaN  \n",
      "90                 3.0           7.0  \n",
      "\n",
      "[74 rows x 16 columns]\n"
     ]
    },
    {
     "data": {
      "text/plain": [
       "<AxesSubplot:xlabel='education', ylabel='age'>"
      ]
     },
     "execution_count": 26,
     "metadata": {},
     "output_type": "execute_result"
    },
    {
     "data": {
      "image/png": "[encoded data removed]",
      "text/plain": [
       "<Figure size 864x576 with 2 Axes>"
      ]
     },
     "metadata": {
      "needs_background": "light"
     },
     "output_type": "display_data"
    }
   ],
   "source": [
    "# Посмотрим, как соотносится возраст с образованием. Немного дурацкий эксперимент, \n",
    "# но он позволит увидеть распределение людей с разными уровнями образования в нашей выборке по их возрастам\n",
    "education_by_age = data_f.pivot_table(\n",
    "                        index='age', \n",
    "                        columns='education', \n",
    "                        values='hours-per-week', \n",
    "                        aggfunc={'hours-per-week': 'count'})\n",
    "\n",
    "print(education_by_age)\n",
    "sns.heatmap(education_by_age)\n",
    "\n",
    "# На графике видно, что в самых представленных по уровню образования группах (Bachelors, HS-grads, some-college) заметны пики\n",
    "# в общем-то более-менее совпадающие с текущим возрастом студентов, обучающихся на этих программах, и далее - длинные хвосты \n",
    "# более старших людей, так и остановившихся на этом уровне образования.\n",
    "# Для предсказания итогового результата нам это вряд ли поможет, но было интересно еще и так взглянуть на данные."
   ]
  },
  {
   "cell_type": "code",
   "execution_count": 27,
   "id": "f24c7539",
   "metadata": {},
   "outputs": [
    {
     "name": "stdout",
     "output_type": "stream",
     "text": [
      "<class 'pandas.core.frame.DataFrame'>\n",
      "Int64Index: 45222 entries, 0 to 48841\n",
      "Data columns (total 15 columns):\n",
      " #   Column           Non-Null Count  Dtype   \n",
      "---  ------           --------------  -----   \n",
      " 0   age              45222 non-null  int64   \n",
      " 1   workclass        45222 non-null  category\n",
      " 2   fnlwgt           45222 non-null  int64   \n",
      " 3   education        45222 non-null  object  \n",
      " 4   educational-num  45222 non-null  int64   \n",
      " 5   marital-status   45222 non-null  object  \n",
      " 6   occupation       45222 non-null  object  \n",
      " 7   relationship     45222 non-null  object  \n",
      " 8   race             45222 non-null  object  \n",
      " 9   gender           45222 non-null  object  \n",
      " 10  capital-gain     45222 non-null  int64   \n",
      " 11  capital-loss     45222 non-null  int64   \n",
      " 12  hours-per-week   45222 non-null  int64   \n",
      " 13  native-country   45222 non-null  object  \n",
      " 14  income           45222 non-null  object  \n",
      "dtypes: category(1), int64(6), object(8)\n",
      "memory usage: 5.2+ MB\n"
     ]
    }
   ],
   "source": [
    "#######################################\n",
    "# Преобразуйте категориальные признаки\n",
    "#######################################\n",
    "# Вначале создаем копию датафрейма, чтобы последующими экспериментами не убить текущий датафрейм\n",
    "data_new = data_f.copy()\n",
    "\n",
    "# Проверим механизм категоризации данных. Если сработает - все категории обработаем таким образом\n",
    "data_new[\"workclass\"] = data_new[\"workclass\"].astype('category')\n",
    "data_new.info()\n",
    "\n",
    "# Сработало. Далее - без комментариев"
   ]
  },
  {
   "cell_type": "code",
   "execution_count": 28,
   "id": "1576c3e3",
   "metadata": {},
   "outputs": [
    {
     "name": "stdout",
     "output_type": "stream",
     "text": [
      "<class 'pandas.core.frame.DataFrame'>\n",
      "Int64Index: 45222 entries, 0 to 48841\n",
      "Data columns (total 15 columns):\n",
      " #   Column           Non-Null Count  Dtype   \n",
      "---  ------           --------------  -----   \n",
      " 0   age              45222 non-null  int64   \n",
      " 1   workclass        45222 non-null  category\n",
      " 2   fnlwgt           45222 non-null  int64   \n",
      " 3   education        45222 non-null  object  \n",
      " 4   educational-num  45222 non-null  int64   \n",
      " 5   marital-status   45222 non-null  category\n",
      " 6   occupation       45222 non-null  category\n",
      " 7   relationship     45222 non-null  category\n",
      " 8   race             45222 non-null  category\n",
      " 9   gender           45222 non-null  category\n",
      " 10  capital-gain     45222 non-null  int64   \n",
      " 11  capital-loss     45222 non-null  int64   \n",
      " 12  hours-per-week   45222 non-null  int64   \n",
      " 13  native-country   45222 non-null  category\n",
      " 14  income           45222 non-null  object  \n",
      "dtypes: category(7), int64(6), object(2)\n",
      "memory usage: 3.4+ MB\n"
     ]
    }
   ],
   "source": [
    "data_new[\"marital-status\"] = data_new[\"marital-status\"].astype('category')\n",
    "data_new[\"occupation\"] = data_new[\"occupation\"].astype('category')\n",
    "data_new[\"relationship\"] = data_new[\"relationship\"].astype('category')\n",
    "data_new[\"race\"] = data_new[\"race\"].astype('category')\n",
    "data_new[\"gender\"] = data_new[\"gender\"].astype('category')\n",
    "data_new[\"native-country\"] = data_new[\"native-country\"].astype('category')\n",
    "\n",
    "data_new.info()\n",
    "\n",
    "# Остались два поля. Про поле education мы уже выяснили, что его категориальный словарь уже хранится в колонке educational-num\n",
    "# Второе поле - собственно целевое. С ним разберемся персонально.\n"
   ]
  },
  {
   "cell_type": "code",
   "execution_count": 29,
   "id": "f1c0e303",
   "metadata": {},
   "outputs": [
    {
     "data": {
      "text/html": [
       "<div>\n",
       "<style scoped>\n",
       "    .dataframe tbody tr th:only-of-type {\n",
       "        vertical-align: middle;\n",
       "    }\n",
       "\n",
       "    .dataframe tbody tr th {\n",
       "        vertical-align: top;\n",
       "    }\n",
       "\n",
       "    .dataframe thead th {\n",
       "        text-align: right;\n",
       "    }\n",
       "</style>\n",
       "<table border=\"1\" class=\"dataframe\">\n",
       "  <thead>\n",
       "    <tr style=\"text-align: right;\">\n",
       "      <th></th>\n",
       "      <th>age</th>\n",
       "      <th>workclass</th>\n",
       "      <th>fnlwgt</th>\n",
       "      <th>education</th>\n",
       "      <th>educational-num</th>\n",
       "      <th>marital-status</th>\n",
       "      <th>occupation</th>\n",
       "      <th>relationship</th>\n",
       "      <th>race</th>\n",
       "      <th>gender</th>\n",
       "      <th>...</th>\n",
       "      <th>hours-per-week</th>\n",
       "      <th>native-country</th>\n",
       "      <th>income</th>\n",
       "      <th>workclass_id</th>\n",
       "      <th>marital-status_id</th>\n",
       "      <th>occupation_id</th>\n",
       "      <th>relationship_id</th>\n",
       "      <th>race_id</th>\n",
       "      <th>gender_id</th>\n",
       "      <th>native-country_id</th>\n",
       "    </tr>\n",
       "  </thead>\n",
       "  <tbody>\n",
       "    <tr>\n",
       "      <th>0</th>\n",
       "      <td>25</td>\n",
       "      <td>Private</td>\n",
       "      <td>226802</td>\n",
       "      <td>11th</td>\n",
       "      <td>7</td>\n",
       "      <td>Never-married</td>\n",
       "      <td>Machine-op-inspct</td>\n",
       "      <td>Own-child</td>\n",
       "      <td>Black</td>\n",
       "      <td>Male</td>\n",
       "      <td>...</td>\n",
       "      <td>40</td>\n",
       "      <td>United-States</td>\n",
       "      <td>&lt;=50K</td>\n",
       "      <td>2</td>\n",
       "      <td>4</td>\n",
       "      <td>6</td>\n",
       "      <td>3</td>\n",
       "      <td>2</td>\n",
       "      <td>1</td>\n",
       "      <td>38</td>\n",
       "    </tr>\n",
       "    <tr>\n",
       "      <th>1</th>\n",
       "      <td>38</td>\n",
       "      <td>Private</td>\n",
       "      <td>89814</td>\n",
       "      <td>HS-grad</td>\n",
       "      <td>9</td>\n",
       "      <td>Married-civ-spouse</td>\n",
       "      <td>Farming-fishing</td>\n",
       "      <td>Husband</td>\n",
       "      <td>White</td>\n",
       "      <td>Male</td>\n",
       "      <td>...</td>\n",
       "      <td>50</td>\n",
       "      <td>United-States</td>\n",
       "      <td>&lt;=50K</td>\n",
       "      <td>2</td>\n",
       "      <td>2</td>\n",
       "      <td>4</td>\n",
       "      <td>0</td>\n",
       "      <td>4</td>\n",
       "      <td>1</td>\n",
       "      <td>38</td>\n",
       "    </tr>\n",
       "    <tr>\n",
       "      <th>2</th>\n",
       "      <td>28</td>\n",
       "      <td>Local-gov</td>\n",
       "      <td>336951</td>\n",
       "      <td>Assoc-acdm</td>\n",
       "      <td>12</td>\n",
       "      <td>Married-civ-spouse</td>\n",
       "      <td>Protective-serv</td>\n",
       "      <td>Husband</td>\n",
       "      <td>White</td>\n",
       "      <td>Male</td>\n",
       "      <td>...</td>\n",
       "      <td>40</td>\n",
       "      <td>United-States</td>\n",
       "      <td>&gt;50K</td>\n",
       "      <td>1</td>\n",
       "      <td>2</td>\n",
       "      <td>10</td>\n",
       "      <td>0</td>\n",
       "      <td>4</td>\n",
       "      <td>1</td>\n",
       "      <td>38</td>\n",
       "    </tr>\n",
       "    <tr>\n",
       "      <th>3</th>\n",
       "      <td>44</td>\n",
       "      <td>Private</td>\n",
       "      <td>160323</td>\n",
       "      <td>Some-college</td>\n",
       "      <td>10</td>\n",
       "      <td>Married-civ-spouse</td>\n",
       "      <td>Machine-op-inspct</td>\n",
       "      <td>Husband</td>\n",
       "      <td>Black</td>\n",
       "      <td>Male</td>\n",
       "      <td>...</td>\n",
       "      <td>40</td>\n",
       "      <td>United-States</td>\n",
       "      <td>&gt;50K</td>\n",
       "      <td>2</td>\n",
       "      <td>2</td>\n",
       "      <td>6</td>\n",
       "      <td>0</td>\n",
       "      <td>2</td>\n",
       "      <td>1</td>\n",
       "      <td>38</td>\n",
       "    </tr>\n",
       "    <tr>\n",
       "      <th>5</th>\n",
       "      <td>34</td>\n",
       "      <td>Private</td>\n",
       "      <td>198693</td>\n",
       "      <td>10th</td>\n",
       "      <td>6</td>\n",
       "      <td>Never-married</td>\n",
       "      <td>Other-service</td>\n",
       "      <td>Not-in-family</td>\n",
       "      <td>White</td>\n",
       "      <td>Male</td>\n",
       "      <td>...</td>\n",
       "      <td>30</td>\n",
       "      <td>United-States</td>\n",
       "      <td>&lt;=50K</td>\n",
       "      <td>2</td>\n",
       "      <td>4</td>\n",
       "      <td>7</td>\n",
       "      <td>1</td>\n",
       "      <td>4</td>\n",
       "      <td>1</td>\n",
       "      <td>38</td>\n",
       "    </tr>\n",
       "  </tbody>\n",
       "</table>\n",
       "<p>5 rows × 22 columns</p>\n",
       "</div>"
      ],
      "text/plain": [
       "   age  workclass  fnlwgt     education  educational-num      marital-status  \\\n",
       "0   25    Private  226802          11th                7       Never-married   \n",
       "1   38    Private   89814       HS-grad                9  Married-civ-spouse   \n",
       "2   28  Local-gov  336951    Assoc-acdm               12  Married-civ-spouse   \n",
       "3   44    Private  160323  Some-college               10  Married-civ-spouse   \n",
       "5   34    Private  198693          10th                6       Never-married   \n",
       "\n",
       "          occupation   relationship   race gender  ...  hours-per-week  \\\n",
       "0  Machine-op-inspct      Own-child  Black   Male  ...              40   \n",
       "1    Farming-fishing        Husband  White   Male  ...              50   \n",
       "2    Protective-serv        Husband  White   Male  ...              40   \n",
       "3  Machine-op-inspct        Husband  Black   Male  ...              40   \n",
       "5      Other-service  Not-in-family  White   Male  ...              30   \n",
       "\n",
       "   native-country  income workclass_id marital-status_id  occupation_id  \\\n",
       "0   United-States   <=50K            2                 4              6   \n",
       "1   United-States   <=50K            2                 2              4   \n",
       "2   United-States    >50K            1                 2             10   \n",
       "3   United-States    >50K            2                 2              6   \n",
       "5   United-States   <=50K            2                 4              7   \n",
       "\n",
       "   relationship_id  race_id  gender_id  native-country_id  \n",
       "0                3        2          1                 38  \n",
       "1                0        4          1                 38  \n",
       "2                0        4          1                 38  \n",
       "3                0        2          1                 38  \n",
       "5                1        4          1                 38  \n",
       "\n",
       "[5 rows x 22 columns]"
      ]
     },
     "execution_count": 29,
     "metadata": {},
     "output_type": "execute_result"
    }
   ],
   "source": [
    "# Ну а теперь добавим в датафрейм только значения из словарей категорий, а исходные колонки грохнем.\n",
    "data_new[\"workclass_id\"] = data_new[\"workclass\"].cat.codes\n",
    "data_new[\"marital-status_id\"] = data_new[\"marital-status\"].cat.codes\n",
    "data_new[\"occupation_id\"] = data_new[\"occupation\"].cat.codes\n",
    "data_new[\"relationship_id\"] = data_new[\"relationship\"].cat.codes\n",
    "data_new[\"race_id\"] = data_new[\"race\"].cat.codes\n",
    "data_new[\"gender_id\"] = data_new[\"gender\"].cat.codes\n",
    "data_new[\"native-country_id\"] = data_new[\"native-country\"].cat.codes\n",
    "\n",
    "data_new.head()"
   ]
  },
  {
   "cell_type": "code",
   "execution_count": null,
   "id": "2ea61a0b",
   "metadata": {},
   "outputs": [],
   "source": [
    "# Ну вот и все. Дальше будем формировать X, y и т.д. "
   ]
  },
  {
   "cell_type": "code",
   "execution_count": 30,
   "id": "db64cbda",
   "metadata": {},
   "outputs": [
    {
     "data": {
      "text/html": [
       "<div>\n",
       "<style scoped>\n",
       "    .dataframe tbody tr th:only-of-type {\n",
       "        vertical-align: middle;\n",
       "    }\n",
       "\n",
       "    .dataframe tbody tr th {\n",
       "        vertical-align: top;\n",
       "    }\n",
       "\n",
       "    .dataframe thead th {\n",
       "        text-align: right;\n",
       "    }\n",
       "</style>\n",
       "<table border=\"1\" class=\"dataframe\">\n",
       "  <thead>\n",
       "    <tr style=\"text-align: right;\">\n",
       "      <th></th>\n",
       "      <th>age</th>\n",
       "      <th>workclass_id</th>\n",
       "      <th>fnlwgt</th>\n",
       "      <th>educational-num</th>\n",
       "      <th>marital-status_id</th>\n",
       "      <th>occupation_id</th>\n",
       "      <th>relationship_id</th>\n",
       "      <th>race_id</th>\n",
       "      <th>gender_id</th>\n",
       "      <th>hours-per-week</th>\n",
       "      <th>native-country_id</th>\n",
       "    </tr>\n",
       "  </thead>\n",
       "  <tbody>\n",
       "    <tr>\n",
       "      <th>count</th>\n",
       "      <td>9045.000000</td>\n",
       "      <td>9045.000000</td>\n",
       "      <td>9.045000e+03</td>\n",
       "      <td>9045.000000</td>\n",
       "      <td>9045.000000</td>\n",
       "      <td>9045.000000</td>\n",
       "      <td>9045.000000</td>\n",
       "      <td>9045.000000</td>\n",
       "      <td>9045.000000</td>\n",
       "      <td>9045.000000</td>\n",
       "      <td>9045.000000</td>\n",
       "    </tr>\n",
       "    <tr>\n",
       "      <th>mean</th>\n",
       "      <td>38.436816</td>\n",
       "      <td>2.207076</td>\n",
       "      <td>1.898696e+05</td>\n",
       "      <td>10.058375</td>\n",
       "      <td>2.593477</td>\n",
       "      <td>5.963737</td>\n",
       "      <td>1.411609</td>\n",
       "      <td>3.686014</td>\n",
       "      <td>0.676838</td>\n",
       "      <td>40.918850</td>\n",
       "      <td>36.405860</td>\n",
       "    </tr>\n",
       "    <tr>\n",
       "      <th>std</th>\n",
       "      <td>13.331264</td>\n",
       "      <td>0.956665</td>\n",
       "      <td>1.053949e+05</td>\n",
       "      <td>2.608571</td>\n",
       "      <td>1.496724</td>\n",
       "      <td>4.030349</td>\n",
       "      <td>1.599238</td>\n",
       "      <td>0.826788</td>\n",
       "      <td>0.467710</td>\n",
       "      <td>12.047334</td>\n",
       "      <td>6.057252</td>\n",
       "    </tr>\n",
       "    <tr>\n",
       "      <th>min</th>\n",
       "      <td>17.000000</td>\n",
       "      <td>0.000000</td>\n",
       "      <td>1.930200e+04</td>\n",
       "      <td>1.000000</td>\n",
       "      <td>0.000000</td>\n",
       "      <td>0.000000</td>\n",
       "      <td>0.000000</td>\n",
       "      <td>0.000000</td>\n",
       "      <td>0.000000</td>\n",
       "      <td>1.000000</td>\n",
       "      <td>0.000000</td>\n",
       "    </tr>\n",
       "    <tr>\n",
       "      <th>25%</th>\n",
       "      <td>28.000000</td>\n",
       "      <td>2.000000</td>\n",
       "      <td>1.175550e+05</td>\n",
       "      <td>9.000000</td>\n",
       "      <td>2.000000</td>\n",
       "      <td>2.000000</td>\n",
       "      <td>0.000000</td>\n",
       "      <td>4.000000</td>\n",
       "      <td>0.000000</td>\n",
       "      <td>40.000000</td>\n",
       "      <td>38.000000</td>\n",
       "    </tr>\n",
       "    <tr>\n",
       "      <th>50%</th>\n",
       "      <td>37.000000</td>\n",
       "      <td>2.000000</td>\n",
       "      <td>1.797720e+05</td>\n",
       "      <td>10.000000</td>\n",
       "      <td>2.000000</td>\n",
       "      <td>6.000000</td>\n",
       "      <td>1.000000</td>\n",
       "      <td>4.000000</td>\n",
       "      <td>1.000000</td>\n",
       "      <td>40.000000</td>\n",
       "      <td>38.000000</td>\n",
       "    </tr>\n",
       "    <tr>\n",
       "      <th>75%</th>\n",
       "      <td>47.000000</td>\n",
       "      <td>2.000000</td>\n",
       "      <td>2.394390e+05</td>\n",
       "      <td>12.000000</td>\n",
       "      <td>4.000000</td>\n",
       "      <td>9.000000</td>\n",
       "      <td>3.000000</td>\n",
       "      <td>4.000000</td>\n",
       "      <td>1.000000</td>\n",
       "      <td>45.000000</td>\n",
       "      <td>38.000000</td>\n",
       "    </tr>\n",
       "    <tr>\n",
       "      <th>max</th>\n",
       "      <td>90.000000</td>\n",
       "      <td>6.000000</td>\n",
       "      <td>1.268339e+06</td>\n",
       "      <td>16.000000</td>\n",
       "      <td>6.000000</td>\n",
       "      <td>13.000000</td>\n",
       "      <td>5.000000</td>\n",
       "      <td>4.000000</td>\n",
       "      <td>1.000000</td>\n",
       "      <td>99.000000</td>\n",
       "      <td>40.000000</td>\n",
       "    </tr>\n",
       "  </tbody>\n",
       "</table>\n",
       "</div>"
      ],
      "text/plain": [
       "               age  workclass_id        fnlwgt  educational-num  \\\n",
       "count  9045.000000   9045.000000  9.045000e+03      9045.000000   \n",
       "mean     38.436816      2.207076  1.898696e+05        10.058375   \n",
       "std      13.331264      0.956665  1.053949e+05         2.608571   \n",
       "min      17.000000      0.000000  1.930200e+04         1.000000   \n",
       "25%      28.000000      2.000000  1.175550e+05         9.000000   \n",
       "50%      37.000000      2.000000  1.797720e+05        10.000000   \n",
       "75%      47.000000      2.000000  2.394390e+05        12.000000   \n",
       "max      90.000000      6.000000  1.268339e+06        16.000000   \n",
       "\n",
       "       marital-status_id  occupation_id  relationship_id      race_id  \\\n",
       "count        9045.000000    9045.000000      9045.000000  9045.000000   \n",
       "mean            2.593477       5.963737         1.411609     3.686014   \n",
       "std             1.496724       4.030349         1.599238     0.826788   \n",
       "min             0.000000       0.000000         0.000000     0.000000   \n",
       "25%             2.000000       2.000000         0.000000     4.000000   \n",
       "50%             2.000000       6.000000         1.000000     4.000000   \n",
       "75%             4.000000       9.000000         3.000000     4.000000   \n",
       "max             6.000000      13.000000         5.000000     4.000000   \n",
       "\n",
       "         gender_id  hours-per-week  native-country_id  \n",
       "count  9045.000000     9045.000000        9045.000000  \n",
       "mean      0.676838       40.918850          36.405860  \n",
       "std       0.467710       12.047334           6.057252  \n",
       "min       0.000000        1.000000           0.000000  \n",
       "25%       0.000000       40.000000          38.000000  \n",
       "50%       1.000000       40.000000          38.000000  \n",
       "75%       1.000000       45.000000          38.000000  \n",
       "max       1.000000       99.000000          40.000000  "
      ]
     },
     "execution_count": 30,
     "metadata": {},
     "output_type": "execute_result"
    }
   ],
   "source": [
    "#######################################\n",
    "# Разделите выборку на обучающее и тестовое подмножество. 80% данных оставить на обучающее множество, 20% на тестовое.\n",
    "#######################################\n",
    "X = data_new[['age', 'workclass_id', 'fnlwgt', 'educational-num', 'marital-status_id', 'occupation_id', \n",
    "         'relationship_id', 'race_id', 'gender_id', 'hours-per-week', 'native-country_id']].copy()\n",
    "#X.head()\n",
    "data_new[\"income\"] = data_new[\"income\"].astype('category')\n",
    "Y = data_new.income.cat.codes\n",
    "Y.head()\n",
    "\n",
    "from sklearn.model_selection import train_test_split\n",
    "# Действуем в соответствии с заданием: для тестовых данных оставляем 20%\n",
    "X_train, X_test, y_train, y_test = train_test_split(X, Y, test_size=0.20, random_state=42)\n",
    "\n",
    "# Контроль. Смотрим параметры тестовой выборки\n",
    "X_test.describe()\n",
    "\n",
    "# Вроде бы ничего неадекватного не видно. Скорее всего, все норм и с X_train и уж тем более с Y"
   ]
  },
  {
   "cell_type": "code",
   "execution_count": 31,
   "id": "60f510bf",
   "metadata": {},
   "outputs": [
    {
     "data": {
      "text/plain": [
       "LogisticRegression(max_iter=1000)"
      ]
     },
     "execution_count": 31,
     "metadata": {},
     "output_type": "execute_result"
    }
   ],
   "source": [
    "#######################################\n",
    "# Обучите модели логистической регрессии и опорных векторов на обучающем множестве\n",
    "#######################################\n",
    "# Вначале - логистическая регрессия\n",
    "from sklearn.linear_model import LogisticRegression\n",
    "\n",
    "# Создаем с параметрами по умолчанию\n",
    "data_logistic_regr = LogisticRegression(max_iter=1000)\n",
    "\n",
    "data_logistic_regr.fit(X_train, y_train)"
   ]
  },
  {
   "cell_type": "code",
   "execution_count": 32,
   "id": "51ecad7b",
   "metadata": {},
   "outputs": [
    {
     "data": {
      "text/plain": [
       "0.2435599778883361"
      ]
     },
     "execution_count": 32,
     "metadata": {},
     "output_type": "execute_result"
    }
   ],
   "source": [
    "y_test.mean()\n",
    "# По получившемуся значению видно, что примерное соотношение людей с высоким и низким доходом при предсказании адекватно."
   ]
  },
  {
   "cell_type": "code",
   "execution_count": null,
   "id": "de22fa37",
   "metadata": {},
   "outputs": [],
   "source": [
    "#######################################\n",
    "# Для тестового множества предскажите уровень дохода и сравните с истинным значением, \n",
    "# посчитав точность предсказания моделей. Для этого используйте встроенную функцию score\n",
    "#######################################"
   ]
  },
  {
   "cell_type": "code",
   "execution_count": 33,
   "id": "6b8b558d",
   "metadata": {},
   "outputs": [
    {
     "name": "stdout",
     "output_type": "stream",
     "text": [
      "[0 0 0 0 0 0 1 0 0 0 0 0 0 0 1]\n",
      "21762    0\n",
      "21701    0\n",
      "42663    1\n",
      "42694    0\n",
      "13590    0\n",
      "47537    1\n",
      "42284    1\n",
      "2021     0\n",
      "48236    0\n",
      "46692    0\n",
      "24799    0\n",
      "32971    1\n",
      "38457    0\n",
      "3797     1\n",
      "44599    1\n",
      "dtype: int8\n",
      "\n",
      "\n",
      "Точность предсказания для логистической регрессии: 0.7865118850193477\n"
     ]
    }
   ],
   "source": [
    "y_predict = data_logistic_regr.predict(X_test)\n",
    "print(y_predict[:15])\n",
    "print(y_test[:15])\n",
    "\n",
    "# Считаем точность предсказания для логистической регрессии\n",
    "log_score = data_logistic_regr.score(X_test, y_test)\n",
    "print(f'\\n\\nТочность предсказания для логистической регрессии: {log_score}')"
   ]
  },
  {
   "cell_type": "code",
   "execution_count": 34,
   "id": "e10363b9",
   "metadata": {},
   "outputs": [
    {
     "data": {
      "text/plain": [
       "SVC()"
      ]
     },
     "execution_count": 34,
     "metadata": {},
     "output_type": "execute_result"
    }
   ],
   "source": [
    "#######################################\n",
    "# Обучите модели логистической регрессии и опорных векторов на обучающем множестве\n",
    "#######################################\n",
    "# Теперь займемся опорными векторами\n",
    "from sklearn.svm import SVC\n",
    "\n",
    "# создаем модель\n",
    "data_scalar_vectors = SVC()\n",
    "\n",
    "data_scalar_vectors.fit(X_train, y_train)\n"
   ]
  },
  {
   "cell_type": "code",
   "execution_count": null,
   "id": "b13a7b9c",
   "metadata": {},
   "outputs": [],
   "source": [
    "#######################################\n",
    "# Для тестового множества предскажите уровень дохода и сравните с истинным значением, \n",
    "# посчитав точность предсказания моделей. Для этого используйте встроенную функцию score\n",
    "#######################################"
   ]
  },
  {
   "cell_type": "code",
   "execution_count": 35,
   "id": "cb3f0619",
   "metadata": {},
   "outputs": [
    {
     "name": "stdout",
     "output_type": "stream",
     "text": [
      "[0 0 0 0 0 0 0 0 0 0 0 0 0 0 0]\n",
      "21762    0\n",
      "21701    0\n",
      "42663    1\n",
      "42694    0\n",
      "13590    0\n",
      "47537    1\n",
      "42284    1\n",
      "2021     0\n",
      "48236    0\n",
      "46692    0\n",
      "24799    0\n",
      "32971    1\n",
      "38457    0\n",
      "3797     1\n",
      "44599    1\n",
      "dtype: int8\n",
      "\n",
      "\n",
      "Точность предсказания для метода опорных векторов: 0.756440022111664\n"
     ]
    }
   ],
   "source": [
    "y_predict_sv = data_scalar_vectors.predict(X_test)\n",
    "print(y_predict_sv[:15])\n",
    "print(y_test[:15])\n",
    "\n",
    "# Считаем точность предсказания для логистической регрессии\n",
    "log_score_sv = data_scalar_vectors.score(X_test, y_test)\n",
    "print(f'\\n\\nТочность предсказания для метода опорных векторов: {log_score_sv}')"
   ]
  },
  {
   "cell_type": "code",
   "execution_count": 36,
   "id": "6b5791c3",
   "metadata": {},
   "outputs": [],
   "source": [
    "# Резюме: метод опорных векторов выдал более низкую точность, при этом обработка заняла значительно длительное время.\n",
    "# Даже волноваться начал."
   ]
  },
  {
   "cell_type": "code",
   "execution_count": null,
   "id": "0aba15bd",
   "metadata": {},
   "outputs": [],
   "source": []
  }
 ],
 "metadata": {
  "kernelspec": {
   "display_name": "Python 3",
   "language": "python",
   "name": "python3"
  },
  "language_info": {
   "codemirror_mode": {
    "name": "ipython",
    "version": 3
   },
   "file_extension": ".py",
   "mimetype": "text/x-python",
   "name": "python",
   "nbconvert_exporter": "python",
   "pygments_lexer": "ipython3",
   "version": "3.8.8"
  }
 },
 "nbformat": 4,
 "nbformat_minor": 5
}
